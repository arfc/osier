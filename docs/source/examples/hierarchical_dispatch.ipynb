{
 "cells": [
  {
   "attachments": {},
   "cell_type": "markdown",
   "metadata": {},
   "source": [
    "# Hierarchical Dispatch\n",
    "\n",
    "This notebook illustrates an example of how to use Osier's `LogicDispatchModel`."
   ]
  },
  {
   "cell_type": "code",
   "execution_count": 51,
   "metadata": {},
   "outputs": [],
   "source": [
    "# basic imports\n",
    "import matplotlib.pyplot as plt\n",
    "import numpy as np\n",
    "import pandas as pd\n",
    "from unyt import MW, GW, km, unyt_array\n",
    "\n",
    "# osier imports\n",
    "from osier import LogicDispatchModel\n",
    "from osier.tech_library import nuclear_adv, wind, battery, natural_gas\n",
    "from osier import total_cost, annual_emission\n",
    "\n",
    "# pymoo imports\n",
    "from pymoo.algorithms.moo.nsga2 import NSGA2\n",
    "from pymoo.optimize import minimize\n",
    "from pymoo.visualization.pcp import PCP"
   ]
  },
  {
   "cell_type": "code",
   "execution_count": 2,
   "metadata": {},
   "outputs": [],
   "source": [
    "N=24\n",
    "demand = np.ones(N)*100\n",
    "wind_speed = np.random.weibull(a=2.5,size=N)"
   ]
  },
  {
   "cell_type": "code",
   "execution_count": 10,
   "metadata": {},
   "outputs": [],
   "source": [
    "nuclear_adv.capacity = 50\n",
    "wind.capacity = 20\n",
    "battery.capacity = 10\n",
    "natural_gas.capacity = 50"
   ]
  },
  {
   "cell_type": "code",
   "execution_count": 11,
   "metadata": {},
   "outputs": [
    {
     "data": {
      "text/plain": [
       "[Nuclear_Adv: 50.0 MW,\n",
       " WindTurbine: 20.0 MW,\n",
       " Battery: 10.0 MW,\n",
       " NaturalGas_Conv: 50.0 MW]"
      ]
     },
     "execution_count": 11,
     "metadata": {},
     "output_type": "execute_result"
    }
   ],
   "source": [
    "tech_list = [nuclear_adv, wind, battery, natural_gas]\n",
    "tech_list"
   ]
  },
  {
   "cell_type": "code",
   "execution_count": 13,
   "metadata": {},
   "outputs": [
    {
     "data": {
      "text/plain": [
       "array([71.02468082, 73.61681993, 79.4082994 , 79.89648718, 86.85434205,\n",
       "       71.2546886 , 83.20470555, 80.58183091, 85.93987225, 78.6084282 ,\n",
       "       93.58884001, 89.97595819, 82.90419282, 79.7322697 , 79.07432187,\n",
       "       82.48245396, 64.52157604, 80.85278169, 82.5195001 , 91.5981539 ,\n",
       "       87.24880579, 75.27437694, 88.66551433, 86.2601746 ])"
      ]
     },
     "execution_count": 13,
     "metadata": {},
     "output_type": "execute_result"
    }
   ],
   "source": [
    "net_demand = demand - wind_speed*wind.capacity.to_value()\n",
    "net_demand"
   ]
  },
  {
   "cell_type": "code",
   "execution_count": 20,
   "metadata": {},
   "outputs": [],
   "source": [
    "model = LogicDispatchModel(technology_list=[t for t in tech_list if t.dispatchable],\n",
    "                           net_demand=net_demand)"
   ]
  },
  {
   "cell_type": "code",
   "execution_count": 21,
   "metadata": {},
   "outputs": [
    {
     "data": {
      "text/plain": [
       "unyt_array([0., 0., 0., 0., 0., 0., 0., 0., 0., 0., 0., 0., 0., 0., 0., 0., 0.,\n",
       "       0., 0., 0., 0., 0., 0., 0.], 'MW')"
      ]
     },
     "execution_count": 21,
     "metadata": {},
     "output_type": "execute_result"
    }
   ],
   "source": [
    "model.solve()"
   ]
  },
  {
   "cell_type": "code",
   "execution_count": 22,
   "metadata": {},
   "outputs": [],
   "source": [
    "model.results"
   ]
  },
  {
   "cell_type": "code",
   "execution_count": 27,
   "metadata": {},
   "outputs": [
    {
     "name": "stdout",
     "output_type": "stream",
     "text": [
      "[unyt_quantity(50., 'MW'), unyt_quantity(50., 'MW'), unyt_quantity(50., 'MW'), unyt_quantity(50., 'MW'), unyt_quantity(50., 'MW'), unyt_quantity(50., 'MW'), unyt_quantity(50., 'MW'), unyt_quantity(50., 'MW'), unyt_quantity(50., 'MW'), unyt_quantity(50., 'MW'), unyt_quantity(50., 'MW'), unyt_quantity(50., 'MW'), unyt_quantity(50., 'MW'), unyt_quantity(50., 'MW'), unyt_quantity(50., 'MW'), unyt_quantity(50., 'MW'), unyt_quantity(50., 'MW'), unyt_quantity(50., 'MW'), unyt_quantity(50., 'MW'), unyt_quantity(50., 'MW'), unyt_quantity(50., 'MW'), unyt_quantity(50., 'MW'), unyt_quantity(50., 'MW'), unyt_quantity(50., 'MW')]\n",
      "[]\n",
      "[unyt_quantity(21.02468082, 'MW'), unyt_quantity(23.61681993, 'MW'), unyt_quantity(29.4082994, 'MW'), unyt_quantity(29.89648718, 'MW'), unyt_quantity(36.85434205, 'MW'), unyt_quantity(21.2546886, 'MW'), unyt_quantity(33.20470555, 'MW'), unyt_quantity(30.58183091, 'MW'), unyt_quantity(35.93987225, 'MW'), unyt_quantity(28.6084282, 'MW'), unyt_quantity(43.58884001, 'MW'), unyt_quantity(39.97595819, 'MW'), unyt_quantity(32.90419282, 'MW'), unyt_quantity(29.7322697, 'MW'), unyt_quantity(29.07432187, 'MW'), unyt_quantity(32.48245396, 'MW'), unyt_quantity(14.52157604, 'MW'), unyt_quantity(30.85278169, 'MW'), unyt_quantity(32.5195001, 'MW'), unyt_quantity(41.5981539, 'MW'), unyt_quantity(37.24880579, 'MW'), unyt_quantity(25.27437694, 'MW'), unyt_quantity(38.66551433, 'MW'), unyt_quantity(36.2601746, 'MW')]\n"
     ]
    }
   ],
   "source": [
    "for t in model.technology_list:\n",
    "    print(t.power_history)"
   ]
  },
  {
   "cell_type": "code",
   "execution_count": 28,
   "metadata": {},
   "outputs": [
    {
     "name": "stdout",
     "output_type": "stream",
     "text": [
      "[Nuclear_Adv: 50.0 MW, Battery: 10.0 MW, NaturalGas_Conv: 50.0 MW]\n"
     ]
    }
   ],
   "source": [
    "print(model.technology_list)"
   ]
  },
  {
   "cell_type": "code",
   "execution_count": 36,
   "metadata": {},
   "outputs": [],
   "source": [
    "model.technology_list[0].reset_history()"
   ]
  },
  {
   "cell_type": "code",
   "execution_count": 43,
   "metadata": {},
   "outputs": [
    {
     "ename": "TypeError",
     "evalue": "only integer scalar arrays can be converted to a scalar index",
     "output_type": "error",
     "traceback": [
      "\u001b[0;31m---------------------------------------------------------------------------\u001b[0m",
      "\u001b[0;31mTypeError\u001b[0m                                 Traceback (most recent call last)",
      "Cell \u001b[0;32mIn[43], line 1\u001b[0m\n\u001b[0;32m----> 1\u001b[0m np\u001b[39m.\u001b[39;49mndarray(model\u001b[39m.\u001b[39;49mtechnology_list[\u001b[39m2\u001b[39;49m]\u001b[39m.\u001b[39;49mpower_history)\n",
      "\u001b[0;31mTypeError\u001b[0m: only integer scalar arrays can be converted to a scalar index"
     ]
    }
   ],
   "source": [
    "np.ndarray(model.technology_list[2].power_history)"
   ]
  },
  {
   "cell_type": "code",
   "execution_count": 48,
   "metadata": {},
   "outputs": [
    {
     "data": {
      "text/plain": [
       "0"
      ]
     },
     "execution_count": 48,
     "metadata": {},
     "output_type": "execute_result"
    }
   ],
   "source": [
    "len(unyt_array(model.technology_list[0].power_history).to_ndarray())"
   ]
  },
  {
   "cell_type": "code",
   "execution_count": 47,
   "metadata": {},
   "outputs": [
    {
     "data": {
      "text/plain": [
       "unyt_array([71.02468082, 73.61681993, 79.4082994 , 79.89648718, 86.85434205,\n",
       "       71.2546886 , 83.20470555, 80.58183091, 85.93987225, 78.6084282 ,\n",
       "       93.58884001, 89.97595819, 82.90419282, 79.7322697 , 79.07432187,\n",
       "       82.48245396, 64.52157604, 80.85278169, 82.5195001 , 91.5981539 ,\n",
       "       87.24880579, 75.27437694, 88.66551433, 86.2601746 ], 'MW')"
      ]
     },
     "execution_count": 47,
     "metadata": {},
     "output_type": "execute_result"
    }
   ],
   "source": [
    "model.net_demand"
   ]
  },
  {
   "cell_type": "code",
   "execution_count": 56,
   "metadata": {},
   "outputs": [
    {
     "data": {
      "text/plain": [
       "True"
      ]
     },
     "execution_count": 56,
     "metadata": {},
     "output_type": "execute_result"
    }
   ],
   "source": [
    "battery.technology_type == 'storage'"
   ]
  },
  {
   "cell_type": "code",
   "execution_count": 57,
   "metadata": {},
   "outputs": [
    {
     "data": {
      "text/plain": [
       "[]"
      ]
     },
     "execution_count": 57,
     "metadata": {},
     "output_type": "execute_result"
    }
   ],
   "source": [
    "battery.storage_history"
   ]
  },
  {
   "cell_type": "code",
   "execution_count": 49,
   "metadata": {},
   "outputs": [],
   "source": [
    "data = {}\n",
    "for t in model.technology_list:\n",
    "    if t.technology_type == 'storage':\n",
    "        \n",
    "    if len(t.power_history) == 0:\n",
    "        data[t.technology_name] = np.zeros(len(model.net_demand))\n",
    "    else:\n",
    "        data[t.technology_name] = unyt_array(t.power_history).to_ndarray()\n",
    "results = pd.DataFrame()"
   ]
  },
  {
   "cell_type": "code",
   "execution_count": 52,
   "metadata": {},
   "outputs": [
    {
     "data": {
      "text/html": [
       "<div>\n",
       "<style scoped>\n",
       "    .dataframe tbody tr th:only-of-type {\n",
       "        vertical-align: middle;\n",
       "    }\n",
       "\n",
       "    .dataframe tbody tr th {\n",
       "        vertical-align: top;\n",
       "    }\n",
       "\n",
       "    .dataframe thead th {\n",
       "        text-align: right;\n",
       "    }\n",
       "</style>\n",
       "<table border=\"1\" class=\"dataframe\">\n",
       "  <thead>\n",
       "    <tr style=\"text-align: right;\">\n",
       "      <th></th>\n",
       "      <th>Nuclear_Adv</th>\n",
       "      <th>Battery</th>\n",
       "      <th>NaturalGas_Conv</th>\n",
       "    </tr>\n",
       "  </thead>\n",
       "  <tbody>\n",
       "    <tr>\n",
       "      <th>0</th>\n",
       "      <td>0.0</td>\n",
       "      <td>0.0</td>\n",
       "      <td>21.024681</td>\n",
       "    </tr>\n",
       "    <tr>\n",
       "      <th>1</th>\n",
       "      <td>0.0</td>\n",
       "      <td>0.0</td>\n",
       "      <td>23.616820</td>\n",
       "    </tr>\n",
       "    <tr>\n",
       "      <th>2</th>\n",
       "      <td>0.0</td>\n",
       "      <td>0.0</td>\n",
       "      <td>29.408299</td>\n",
       "    </tr>\n",
       "    <tr>\n",
       "      <th>3</th>\n",
       "      <td>0.0</td>\n",
       "      <td>0.0</td>\n",
       "      <td>29.896487</td>\n",
       "    </tr>\n",
       "    <tr>\n",
       "      <th>4</th>\n",
       "      <td>0.0</td>\n",
       "      <td>0.0</td>\n",
       "      <td>36.854342</td>\n",
       "    </tr>\n",
       "    <tr>\n",
       "      <th>5</th>\n",
       "      <td>0.0</td>\n",
       "      <td>0.0</td>\n",
       "      <td>21.254689</td>\n",
       "    </tr>\n",
       "    <tr>\n",
       "      <th>6</th>\n",
       "      <td>0.0</td>\n",
       "      <td>0.0</td>\n",
       "      <td>33.204706</td>\n",
       "    </tr>\n",
       "    <tr>\n",
       "      <th>7</th>\n",
       "      <td>0.0</td>\n",
       "      <td>0.0</td>\n",
       "      <td>30.581831</td>\n",
       "    </tr>\n",
       "    <tr>\n",
       "      <th>8</th>\n",
       "      <td>0.0</td>\n",
       "      <td>0.0</td>\n",
       "      <td>35.939872</td>\n",
       "    </tr>\n",
       "    <tr>\n",
       "      <th>9</th>\n",
       "      <td>0.0</td>\n",
       "      <td>0.0</td>\n",
       "      <td>28.608428</td>\n",
       "    </tr>\n",
       "    <tr>\n",
       "      <th>10</th>\n",
       "      <td>0.0</td>\n",
       "      <td>0.0</td>\n",
       "      <td>43.588840</td>\n",
       "    </tr>\n",
       "    <tr>\n",
       "      <th>11</th>\n",
       "      <td>0.0</td>\n",
       "      <td>0.0</td>\n",
       "      <td>39.975958</td>\n",
       "    </tr>\n",
       "    <tr>\n",
       "      <th>12</th>\n",
       "      <td>0.0</td>\n",
       "      <td>0.0</td>\n",
       "      <td>32.904193</td>\n",
       "    </tr>\n",
       "    <tr>\n",
       "      <th>13</th>\n",
       "      <td>0.0</td>\n",
       "      <td>0.0</td>\n",
       "      <td>29.732270</td>\n",
       "    </tr>\n",
       "    <tr>\n",
       "      <th>14</th>\n",
       "      <td>0.0</td>\n",
       "      <td>0.0</td>\n",
       "      <td>29.074322</td>\n",
       "    </tr>\n",
       "    <tr>\n",
       "      <th>15</th>\n",
       "      <td>0.0</td>\n",
       "      <td>0.0</td>\n",
       "      <td>32.482454</td>\n",
       "    </tr>\n",
       "    <tr>\n",
       "      <th>16</th>\n",
       "      <td>0.0</td>\n",
       "      <td>0.0</td>\n",
       "      <td>14.521576</td>\n",
       "    </tr>\n",
       "    <tr>\n",
       "      <th>17</th>\n",
       "      <td>0.0</td>\n",
       "      <td>0.0</td>\n",
       "      <td>30.852782</td>\n",
       "    </tr>\n",
       "    <tr>\n",
       "      <th>18</th>\n",
       "      <td>0.0</td>\n",
       "      <td>0.0</td>\n",
       "      <td>32.519500</td>\n",
       "    </tr>\n",
       "    <tr>\n",
       "      <th>19</th>\n",
       "      <td>0.0</td>\n",
       "      <td>0.0</td>\n",
       "      <td>41.598154</td>\n",
       "    </tr>\n",
       "    <tr>\n",
       "      <th>20</th>\n",
       "      <td>0.0</td>\n",
       "      <td>0.0</td>\n",
       "      <td>37.248806</td>\n",
       "    </tr>\n",
       "    <tr>\n",
       "      <th>21</th>\n",
       "      <td>0.0</td>\n",
       "      <td>0.0</td>\n",
       "      <td>25.274377</td>\n",
       "    </tr>\n",
       "    <tr>\n",
       "      <th>22</th>\n",
       "      <td>0.0</td>\n",
       "      <td>0.0</td>\n",
       "      <td>38.665514</td>\n",
       "    </tr>\n",
       "    <tr>\n",
       "      <th>23</th>\n",
       "      <td>0.0</td>\n",
       "      <td>0.0</td>\n",
       "      <td>36.260175</td>\n",
       "    </tr>\n",
       "  </tbody>\n",
       "</table>\n",
       "</div>"
      ],
      "text/plain": [
       "    Nuclear_Adv  Battery  NaturalGas_Conv\n",
       "0           0.0      0.0        21.024681\n",
       "1           0.0      0.0        23.616820\n",
       "2           0.0      0.0        29.408299\n",
       "3           0.0      0.0        29.896487\n",
       "4           0.0      0.0        36.854342\n",
       "5           0.0      0.0        21.254689\n",
       "6           0.0      0.0        33.204706\n",
       "7           0.0      0.0        30.581831\n",
       "8           0.0      0.0        35.939872\n",
       "9           0.0      0.0        28.608428\n",
       "10          0.0      0.0        43.588840\n",
       "11          0.0      0.0        39.975958\n",
       "12          0.0      0.0        32.904193\n",
       "13          0.0      0.0        29.732270\n",
       "14          0.0      0.0        29.074322\n",
       "15          0.0      0.0        32.482454\n",
       "16          0.0      0.0        14.521576\n",
       "17          0.0      0.0        30.852782\n",
       "18          0.0      0.0        32.519500\n",
       "19          0.0      0.0        41.598154\n",
       "20          0.0      0.0        37.248806\n",
       "21          0.0      0.0        25.274377\n",
       "22          0.0      0.0        38.665514\n",
       "23          0.0      0.0        36.260175"
      ]
     },
     "execution_count": 52,
     "metadata": {},
     "output_type": "execute_result"
    }
   ],
   "source": [
    "pd.DataFrame(data)"
   ]
  },
  {
   "cell_type": "code",
   "execution_count": 31,
   "metadata": {},
   "outputs": [
    {
     "data": {
      "text/plain": [
       "'Battery'"
      ]
     },
     "execution_count": 31,
     "metadata": {},
     "output_type": "execute_result"
    }
   ],
   "source": [
    "battery.technology_name"
   ]
  }
 ],
 "metadata": {
  "kernelspec": {
   "display_name": "osier-test04",
   "language": "python",
   "name": "python3"
  },
  "language_info": {
   "codemirror_mode": {
    "name": "ipython",
    "version": 3
   },
   "file_extension": ".py",
   "mimetype": "text/x-python",
   "name": "python",
   "nbconvert_exporter": "python",
   "pygments_lexer": "ipython3",
   "version": "3.12.6"
  },
  "orig_nbformat": 4
 },
 "nbformat": 4,
 "nbformat_minor": 2
}
