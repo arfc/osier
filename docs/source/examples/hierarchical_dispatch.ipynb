{
 "cells": [
  {
   "attachments": {},
   "cell_type": "markdown",
   "metadata": {},
   "source": [
    "# Hierarchical Dispatch\n",
    "\n",
    "This notebook illustrates an example of how to use Osier's `LogicDispatchModel`."
   ]
  },
  {
   "cell_type": "code",
   "execution_count": 1,
   "metadata": {},
   "outputs": [],
   "source": [
    "# basic imports\n",
    "import matplotlib.pyplot as plt\n",
    "import numpy as np\n",
    "from unyt import MW, GW, km\n",
    "\n",
    "# osier imports\n",
    "from osier import LogicDispatchModel\n",
    "from osier.tech_library import nuclear_adv, wind, battery, natural_gas\n",
    "from osier import total_cost, annual_emission\n",
    "\n",
    "# pymoo imports\n",
    "from pymoo.algorithms.moo.nsga2 import NSGA2\n",
    "from pymoo.optimize import minimize\n",
    "from pymoo.visualization.pcp import PCP"
   ]
  },
  {
   "cell_type": "code",
   "execution_count": 2,
   "metadata": {},
   "outputs": [],
   "source": [
    "N=24\n",
    "demand = np.ones(N)*100\n",
    "wind_speed = np.random.weibull(a=2.5,size=N)"
   ]
  },
  {
   "cell_type": "code",
   "execution_count": 10,
   "metadata": {},
   "outputs": [],
   "source": [
    "nuclear_adv.capacity = 50\n",
    "wind.capacity = 20\n",
    "battery.capacity = 10\n",
    "natural_gas.capacity = 50"
   ]
  },
  {
   "cell_type": "code",
   "execution_count": 11,
   "metadata": {},
   "outputs": [
    {
     "data": {
      "text/plain": [
       "[Nuclear_Adv: 50.0 MW,\n",
       " WindTurbine: 20.0 MW,\n",
       " Battery: 10.0 MW,\n",
       " NaturalGas_Conv: 50.0 MW]"
      ]
     },
     "execution_count": 11,
     "metadata": {},
     "output_type": "execute_result"
    }
   ],
   "source": [
    "tech_list = [nuclear_adv, wind, battery, natural_gas]\n",
    "tech_list"
   ]
  },
  {
   "cell_type": "code",
   "execution_count": 13,
   "metadata": {},
   "outputs": [
    {
     "data": {
      "text/plain": [
       "array([71.02468082, 73.61681993, 79.4082994 , 79.89648718, 86.85434205,\n",
       "       71.2546886 , 83.20470555, 80.58183091, 85.93987225, 78.6084282 ,\n",
       "       93.58884001, 89.97595819, 82.90419282, 79.7322697 , 79.07432187,\n",
       "       82.48245396, 64.52157604, 80.85278169, 82.5195001 , 91.5981539 ,\n",
       "       87.24880579, 75.27437694, 88.66551433, 86.2601746 ])"
      ]
     },
     "execution_count": 13,
     "metadata": {},
     "output_type": "execute_result"
    }
   ],
   "source": [
    "net_demand = demand - wind_speed*wind.capacity.to_value()\n",
    "net_demand"
   ]
  },
  {
   "cell_type": "code",
   "execution_count": null,
   "metadata": {},
   "outputs": [],
   "source": [
    "model = LogicDispatchModel(technology_list=tech_list,\n",
    "                           net_demand=net_demand)"
   ]
  }
 ],
 "metadata": {
  "kernelspec": {
   "display_name": "osier-test04",
   "language": "python",
   "name": "python3"
  },
  "language_info": {
   "codemirror_mode": {
    "name": "ipython",
    "version": 3
   },
   "file_extension": ".py",
   "mimetype": "text/x-python",
   "name": "python",
   "nbconvert_exporter": "python",
   "pygments_lexer": "ipython3",
   "version": "3.12.6"
  },
  "orig_nbformat": 4
 },
 "nbformat": 4,
 "nbformat_minor": 2
}
