{
 "cells": [
  {
   "attachments": {},
   "cell_type": "markdown",
   "metadata": {},
   "source": [
    "# Hierarchical Dispatch\n",
    "\n",
    "This notebook illustrates an example of how to use Osier's `LogicDispatchModel`."
   ]
  },
  {
   "cell_type": "code",
   "execution_count": 1,
   "metadata": {},
   "outputs": [],
   "source": [
    "# basic imports\n",
    "import matplotlib.pyplot as plt\n",
    "import numpy as np\n",
    "import pandas as pd\n",
    "from unyt import MW, GW, km, unyt_array\n",
    "\n",
    "# osier imports\n",
    "from osier import LogicDispatchModel, DispatchModel\n",
    "from osier.tech_library import nuclear_adv, wind, battery, natural_gas\n",
    "from osier import total_cost, annual_emission\n",
    "\n",
    "# pymoo imports\n",
    "from pymoo.algorithms.moo.nsga2 import NSGA2\n",
    "from pymoo.optimize import minimize\n",
    "from pymoo.visualization.pcp import PCP"
   ]
  },
  {
   "cell_type": "code",
   "execution_count": 2,
   "metadata": {},
   "outputs": [],
   "source": [
    "N=24\n",
    "demand = np.ones(N)*100\n",
    "wind_speed = np.random.weibull(a=2.5,size=N)"
   ]
  },
  {
   "cell_type": "code",
   "execution_count": 3,
   "metadata": {},
   "outputs": [
    {
     "data": {
      "text/plain": [
       "unyt_quantity(3261.36504, 'MW*hr')"
      ]
     },
     "execution_count": 3,
     "metadata": {},
     "output_type": "execute_result"
    }
   ],
   "source": [
    "battery.storage_capacity"
   ]
  },
  {
   "cell_type": "code",
   "execution_count": 4,
   "metadata": {},
   "outputs": [],
   "source": [
    "nuclear_adv.capacity = 50\n",
    "wind.capacity = 100\n",
    "battery.capacity = 100\n",
    "\n",
    "natural_gas.capacity = 0.1"
   ]
  },
  {
   "cell_type": "code",
   "execution_count": 5,
   "metadata": {},
   "outputs": [],
   "source": [
    "nuclear_adv.reset_history()"
   ]
  },
  {
   "cell_type": "code",
   "execution_count": 6,
   "metadata": {},
   "outputs": [
    {
     "data": {
      "text/plain": [
       "unyt_quantity(50., 'MW')"
      ]
     },
     "execution_count": 6,
     "metadata": {},
     "output_type": "execute_result"
    }
   ],
   "source": [
    "nuclear_adv.power_level"
   ]
  },
  {
   "cell_type": "code",
   "execution_count": 7,
   "metadata": {},
   "outputs": [
    {
     "data": {
      "text/plain": [
       "unyt_quantity(37.5, 'MW')"
      ]
     },
     "execution_count": 7,
     "metadata": {},
     "output_type": "execute_result"
    }
   ],
   "source": [
    "nuclear_adv.power_output(demand=-1*MW)"
   ]
  },
  {
   "cell_type": "code",
   "execution_count": 8,
   "metadata": {},
   "outputs": [],
   "source": [
    "battery.initial_storage = 100"
   ]
  },
  {
   "cell_type": "code",
   "execution_count": 9,
   "metadata": {},
   "outputs": [
    {
     "data": {
      "text/plain": [
       "unyt_quantity(0., 'MW')"
      ]
     },
     "execution_count": 9,
     "metadata": {},
     "output_type": "execute_result"
    }
   ],
   "source": [
    "natural_gas.power_output(-100*MW)"
   ]
  },
  {
   "cell_type": "code",
   "execution_count": 10,
   "metadata": {},
   "outputs": [
    {
     "data": {
      "text/plain": [
       "unyt_quantity(100, 'MWh')"
      ]
     },
     "execution_count": 10,
     "metadata": {},
     "output_type": "execute_result"
    }
   ],
   "source": [
    "battery.storage_level"
   ]
  },
  {
   "cell_type": "code",
   "execution_count": 11,
   "metadata": {},
   "outputs": [
    {
     "data": {
      "text/plain": [
       "unyt_quantity(0., 'MW')"
      ]
     },
     "execution_count": 11,
     "metadata": {},
     "output_type": "execute_result"
    }
   ],
   "source": [
    "natural_gas.power_output(-0.01*MW)"
   ]
  },
  {
   "cell_type": "code",
   "execution_count": 12,
   "metadata": {},
   "outputs": [
    {
     "data": {
      "text/plain": [
       "unyt_quantity(25., 'MW')"
      ]
     },
     "execution_count": 12,
     "metadata": {},
     "output_type": "execute_result"
    }
   ],
   "source": [
    "nuclear_adv.power_output(-1*MW)"
   ]
  },
  {
   "cell_type": "code",
   "execution_count": 13,
   "metadata": {},
   "outputs": [
    {
     "data": {
      "text/plain": [
       "unyt_quantity(-100., 'MW')"
      ]
     },
     "execution_count": 13,
     "metadata": {},
     "output_type": "execute_result"
    }
   ],
   "source": [
    "battery.power_output(-1000*MW)"
   ]
  },
  {
   "cell_type": "code",
   "execution_count": 14,
   "metadata": {},
   "outputs": [
    {
     "data": {
      "text/plain": [
       "unyt_quantity(0., 'MW')"
      ]
     },
     "execution_count": 14,
     "metadata": {},
     "output_type": "execute_result"
    }
   ],
   "source": [
    "battery.charge(100*MW)"
   ]
  },
  {
   "cell_type": "code",
   "execution_count": 15,
   "metadata": {},
   "outputs": [
    {
     "data": {
      "text/plain": [
       "unyt_quantity(200., 'MWh')"
      ]
     },
     "execution_count": 15,
     "metadata": {},
     "output_type": "execute_result"
    }
   ],
   "source": [
    "battery.storage_level"
   ]
  },
  {
   "cell_type": "code",
   "execution_count": null,
   "metadata": {},
   "outputs": [],
   "source": []
  },
  {
   "cell_type": "code",
   "execution_count": 16,
   "metadata": {},
   "outputs": [
    {
     "data": {
      "text/plain": [
       "unyt_quantity(200., 'MWh')"
      ]
     },
     "execution_count": 16,
     "metadata": {},
     "output_type": "execute_result"
    }
   ],
   "source": [
    "battery.storage_level"
   ]
  },
  {
   "cell_type": "code",
   "execution_count": 17,
   "metadata": {},
   "outputs": [
    {
     "data": {
      "text/plain": [
       "unyt_quantity(0., 'MW')"
      ]
     },
     "execution_count": 17,
     "metadata": {},
     "output_type": "execute_result"
    }
   ],
   "source": [
    "natural_gas.power_output(-1*MW)"
   ]
  },
  {
   "cell_type": "code",
   "execution_count": 18,
   "metadata": {},
   "outputs": [
    {
     "data": {
      "text/plain": [
       "[Nuclear_Adv: 50.0 MW,\n",
       " WindTurbine: 100.0 MW,\n",
       " Battery: 100.0 MW,\n",
       " NaturalGas_Conv: 0.1 MW]"
      ]
     },
     "execution_count": 18,
     "metadata": {},
     "output_type": "execute_result"
    }
   ],
   "source": [
    "tech_list = [nuclear_adv, wind, battery, natural_gas]\n",
    "tech_list"
   ]
  },
  {
   "cell_type": "code",
   "execution_count": 19,
   "metadata": {},
   "outputs": [
    {
     "data": {
      "text/plain": [
       "array([ 53.39487091, -40.10054983,  53.97860494,  27.01922515,\n",
       "        50.32396895,  67.59012572,  20.03792269,  76.55838803,\n",
       "         3.3748523 ,  39.97291007,  42.51004457,   8.88657628,\n",
       "       -19.57365318,   3.92774161, -48.46142547, -69.76925155,\n",
       "       -37.01867128, -52.49792234,  25.3980917 ,  -3.77512012,\n",
       "       -18.30934924,  -1.23386905,  17.45592987,  11.18576393])"
      ]
     },
     "execution_count": 19,
     "metadata": {},
     "output_type": "execute_result"
    }
   ],
   "source": [
    "net_demand = demand - wind_speed*wind.capacity.to_value()\n",
    "net_demand"
   ]
  },
  {
   "cell_type": "code",
   "execution_count": 33,
   "metadata": {},
   "outputs": [],
   "source": [
    "model = LogicDispatchModel(technology_list=[t for t in tech_list if t.dispatchable],\n",
    "                           net_demand=net_demand)"
   ]
  },
  {
   "cell_type": "code",
   "execution_count": 34,
   "metadata": {},
   "outputs": [],
   "source": [
    "covered_dem = model.solve()"
   ]
  },
  {
   "cell_type": "code",
   "execution_count": 35,
   "metadata": {},
   "outputs": [
    {
     "data": {
      "text/plain": [
       "[<matplotlib.lines.Line2D at 0x14ceac9e0>]"
      ]
     },
     "execution_count": 35,
     "metadata": {},
     "output_type": "execute_result"
    },
    {
     "data": {
      "image/png": "[encoded data removed]",
      "text/plain": [
       "<Figure size 640x480 with 1 Axes>"
      ]
     },
     "metadata": {},
     "output_type": "display_data"
    }
   ],
   "source": [
    "plt.plot(model.covered_demand)"
   ]
  },
  {
   "cell_type": "code",
   "execution_count": 36,
   "metadata": {},
   "outputs": [],
   "source": [
    "data = {}\n",
    "for t in model.technology_list:\n",
    "    if t.technology_type == 'storage':\n",
    "        if len(t.power_history) == 0:\n",
    "            data[f\"{t.technology_name}_charge\"] = np.zeros(len(model.net_demand))\n",
    "        else:\n",
    "            data[f\"{t.technology_name}_charge\"] = unyt_array(t.power_history).to_ndarray()\n",
    "        if len(t.storage_history) == 0:\n",
    "            data[f\"{t.technology_name}_level\"] = np.zeros(len(model.net_demand))\n",
    "        else:\n",
    "            data[f\"{t.technology_name}_level\"] = unyt_array(t.storage_history).to_ndarray()\n",
    "    else:\n",
    "        if len(t.power_history) == 0:\n",
    "            data[t.technology_name] = np.zeros(len(model.net_demand))\n",
    "        else:\n",
    "            data[t.technology_name] = unyt_array(t.power_history).to_ndarray()\n",
    "# results = pd.DataFrame(data)"
   ]
  },
  {
   "cell_type": "code",
   "execution_count": 37,
   "metadata": {},
   "outputs": [
    {
     "name": "stdout",
     "output_type": "stream",
     "text": [
      "Battery_charge\n",
      "244\n",
      "Battery_level\n",
      "244\n",
      "Nuclear_Adv\n",
      "242\n",
      "NaturalGas_Conv\n",
      "243\n"
     ]
    }
   ],
   "source": [
    "for k,v in data.items():\n",
    "    print(k)\n",
    "    print(len(v))"
   ]
  },
  {
   "cell_type": "code",
   "execution_count": 30,
   "metadata": {},
   "outputs": [
    {
     "name": "stdout",
     "output_type": "stream",
     "text": [
      "202.67173512710994 MWh\n",
      "0.0 MW\n",
      "212.67173512710994 MWh\n"
     ]
    }
   ],
   "source": [
    "print(battery.storage_level)\n",
    "v = -10*MW\n",
    "v -= battery.charge(v)\n",
    "print(v)\n",
    "print(battery.storage_level)"
   ]
  },
  {
   "cell_type": "code",
   "execution_count": 31,
   "metadata": {},
   "outputs": [
    {
     "data": {
      "text/plain": [
       "[unyt_quantity(0, 'MW'),\n",
       " unyt_quantity(0, 'MW'),\n",
       " unyt_quantity(53.39487091, 'MW'),\n",
       " unyt_quantity(0, 'MW'),\n",
       " unyt_quantity(53.97860494, 'MW'),\n",
       " unyt_quantity(27.01922515, 'MW'),\n",
       " unyt_quantity(50.32396895, 'MW'),\n",
       " unyt_quantity(55.38387989, 'MWh/hr'),\n",
       " unyt_quantity(0., 'MWh/hr'),\n",
       " unyt_quantity(0., 'MWh/hr'),\n",
       " unyt_quantity(0., 'MWh/hr'),\n",
       " unyt_quantity(0., 'MWh/hr'),\n",
       " unyt_quantity(0., 'MWh/hr'),\n",
       " unyt_quantity(0., 'MWh/hr'),\n",
       " unyt_quantity(0, 'MW'),\n",
       " unyt_quantity(3.92774161, 'MW'),\n",
       " unyt_quantity(0, 'MW'),\n",
       " unyt_quantity(0, 'MW'),\n",
       " unyt_quantity(0, 'MW'),\n",
       " unyt_quantity(0, 'MW'),\n",
       " unyt_quantity(25.3980917, 'MW'),\n",
       " unyt_quantity(0, 'MW'),\n",
       " unyt_quantity(0, 'MW'),\n",
       " unyt_quantity(0, 'MW'),\n",
       " unyt_quantity(17.45592987, 'MW'),\n",
       " unyt_quantity(11.18576393, 'MW'),\n",
       " unyt_quantity(53.39487091, 'MW'),\n",
       " unyt_quantity(0, 'MW'),\n",
       " unyt_quantity(53.97860494, 'MW'),\n",
       " unyt_quantity(27.01922515, 'MW'),\n",
       " unyt_quantity(50.32396895, 'MW'),\n",
       " unyt_quantity(48.05561502, 'MWh/hr'),\n",
       " unyt_quantity(0., 'MWh/hr'),\n",
       " unyt_quantity(0., 'MWh/hr'),\n",
       " unyt_quantity(0., 'MWh/hr'),\n",
       " unyt_quantity(0., 'MWh/hr'),\n",
       " unyt_quantity(0., 'MWh/hr'),\n",
       " unyt_quantity(0., 'MWh/hr'),\n",
       " unyt_quantity(0, 'MW'),\n",
       " unyt_quantity(3.92774161, 'MW'),\n",
       " unyt_quantity(0, 'MW'),\n",
       " unyt_quantity(0, 'MW'),\n",
       " unyt_quantity(0, 'MW'),\n",
       " unyt_quantity(0, 'MW'),\n",
       " unyt_quantity(25.3980917, 'MW'),\n",
       " unyt_quantity(0, 'MW'),\n",
       " unyt_quantity(0, 'MW'),\n",
       " unyt_quantity(0, 'MW'),\n",
       " unyt_quantity(17.45592987, 'MW'),\n",
       " unyt_quantity(11.18576393, 'MW'),\n",
       " unyt_quantity(53.39487091, 'MW'),\n",
       " unyt_quantity(0, 'MW'),\n",
       " unyt_quantity(53.97860494, 'MW'),\n",
       " unyt_quantity(27.01922515, 'MW'),\n",
       " unyt_quantity(50.32396895, 'MW'),\n",
       " unyt_quantity(48.05561502, 'MWh/hr'),\n",
       " unyt_quantity(0., 'MWh/hr'),\n",
       " unyt_quantity(0., 'MWh/hr'),\n",
       " unyt_quantity(0., 'MWh/hr'),\n",
       " unyt_quantity(0., 'MWh/hr'),\n",
       " unyt_quantity(0., 'MWh/hr'),\n",
       " unyt_quantity(0., 'MWh/hr'),\n",
       " unyt_quantity(0, 'MW'),\n",
       " unyt_quantity(3.92774161, 'MW'),\n",
       " unyt_quantity(0, 'MW'),\n",
       " unyt_quantity(0, 'MW'),\n",
       " unyt_quantity(0, 'MW'),\n",
       " unyt_quantity(0, 'MW'),\n",
       " unyt_quantity(25.3980917, 'MW'),\n",
       " unyt_quantity(0, 'MW'),\n",
       " unyt_quantity(0, 'MW'),\n",
       " unyt_quantity(0, 'MW'),\n",
       " unyt_quantity(17.45592987, 'MW'),\n",
       " unyt_quantity(11.18576393, 'MW'),\n",
       " unyt_quantity(53.39487091, 'MW'),\n",
       " unyt_quantity(0, 'MW'),\n",
       " unyt_quantity(53.97860494, 'MW'),\n",
       " unyt_quantity(27.01922515, 'MW'),\n",
       " unyt_quantity(50.32396895, 'MW'),\n",
       " unyt_quantity(48.05561502, 'MWh/hr'),\n",
       " unyt_quantity(0., 'MWh/hr'),\n",
       " unyt_quantity(0., 'MWh/hr'),\n",
       " unyt_quantity(0., 'MWh/hr'),\n",
       " unyt_quantity(0., 'MWh/hr'),\n",
       " unyt_quantity(0., 'MWh/hr'),\n",
       " unyt_quantity(0., 'MWh/hr'),\n",
       " unyt_quantity(0, 'MW'),\n",
       " unyt_quantity(3.92774161, 'MW'),\n",
       " unyt_quantity(0, 'MW'),\n",
       " unyt_quantity(0, 'MW'),\n",
       " unyt_quantity(0, 'MW'),\n",
       " unyt_quantity(0, 'MW'),\n",
       " unyt_quantity(25.3980917, 'MW'),\n",
       " unyt_quantity(0, 'MW'),\n",
       " unyt_quantity(0, 'MW'),\n",
       " unyt_quantity(0, 'MW'),\n",
       " unyt_quantity(17.45592987, 'MW'),\n",
       " unyt_quantity(11.18576393, 'MW'),\n",
       " unyt_quantity(53.39487091, 'MW'),\n",
       " unyt_quantity(0, 'MW'),\n",
       " unyt_quantity(53.97860494, 'MW'),\n",
       " unyt_quantity(27.01922515, 'MW'),\n",
       " unyt_quantity(50.32396895, 'MW'),\n",
       " unyt_quantity(48.05561502, 'MWh/hr'),\n",
       " unyt_quantity(0., 'MWh/hr'),\n",
       " unyt_quantity(0., 'MWh/hr'),\n",
       " unyt_quantity(0., 'MWh/hr'),\n",
       " unyt_quantity(0., 'MWh/hr'),\n",
       " unyt_quantity(0., 'MWh/hr'),\n",
       " unyt_quantity(0., 'MWh/hr'),\n",
       " unyt_quantity(0, 'MW'),\n",
       " unyt_quantity(3.92774161, 'MW'),\n",
       " unyt_quantity(0, 'MW'),\n",
       " unyt_quantity(0, 'MW'),\n",
       " unyt_quantity(0, 'MW'),\n",
       " unyt_quantity(0, 'MW'),\n",
       " unyt_quantity(25.3980917, 'MW'),\n",
       " unyt_quantity(0, 'MW'),\n",
       " unyt_quantity(0, 'MW'),\n",
       " unyt_quantity(0, 'MW'),\n",
       " unyt_quantity(17.45592987, 'MW'),\n",
       " unyt_quantity(11.18576393, 'MW'),\n",
       " unyt_quantity(53.39487091, 'MW'),\n",
       " unyt_quantity(0, 'MW'),\n",
       " unyt_quantity(53.97860494, 'MW'),\n",
       " unyt_quantity(27.01922515, 'MW'),\n",
       " unyt_quantity(50.32396895, 'MW'),\n",
       " unyt_quantity(48.05561502, 'MWh/hr'),\n",
       " unyt_quantity(0., 'MWh/hr'),\n",
       " unyt_quantity(0., 'MWh/hr'),\n",
       " unyt_quantity(0., 'MWh/hr'),\n",
       " unyt_quantity(0., 'MWh/hr'),\n",
       " unyt_quantity(0., 'MWh/hr'),\n",
       " unyt_quantity(0., 'MWh/hr'),\n",
       " unyt_quantity(0, 'MW'),\n",
       " unyt_quantity(3.92774161, 'MW'),\n",
       " unyt_quantity(0, 'MW'),\n",
       " unyt_quantity(0, 'MW'),\n",
       " unyt_quantity(0, 'MW'),\n",
       " unyt_quantity(0, 'MW'),\n",
       " unyt_quantity(25.3980917, 'MW'),\n",
       " unyt_quantity(0, 'MW'),\n",
       " unyt_quantity(0, 'MW'),\n",
       " unyt_quantity(0, 'MW'),\n",
       " unyt_quantity(17.45592987, 'MW'),\n",
       " unyt_quantity(11.18576393, 'MW'),\n",
       " unyt_quantity(53.39487091, 'MW'),\n",
       " unyt_quantity(0, 'MW'),\n",
       " unyt_quantity(53.97860494, 'MW'),\n",
       " unyt_quantity(27.01922515, 'MW'),\n",
       " unyt_quantity(50.32396895, 'MW'),\n",
       " unyt_quantity(48.05561502, 'MWh/hr'),\n",
       " unyt_quantity(0., 'MWh/hr'),\n",
       " unyt_quantity(0., 'MWh/hr'),\n",
       " unyt_quantity(0., 'MWh/hr'),\n",
       " unyt_quantity(0., 'MWh/hr'),\n",
       " unyt_quantity(0., 'MWh/hr'),\n",
       " unyt_quantity(0., 'MWh/hr'),\n",
       " unyt_quantity(0, 'MW'),\n",
       " unyt_quantity(3.92774161, 'MW'),\n",
       " unyt_quantity(0, 'MW'),\n",
       " unyt_quantity(0, 'MW'),\n",
       " unyt_quantity(0, 'MW'),\n",
       " unyt_quantity(0, 'MW'),\n",
       " unyt_quantity(25.3980917, 'MW'),\n",
       " unyt_quantity(0, 'MW'),\n",
       " unyt_quantity(0, 'MW'),\n",
       " unyt_quantity(0, 'MW'),\n",
       " unyt_quantity(17.45592987, 'MW'),\n",
       " unyt_quantity(11.18576393, 'MW'),\n",
       " unyt_quantity(53.39487091, 'MW'),\n",
       " unyt_quantity(0, 'MW'),\n",
       " unyt_quantity(53.97860494, 'MW'),\n",
       " unyt_quantity(27.01922515, 'MW'),\n",
       " unyt_quantity(50.32396895, 'MW'),\n",
       " unyt_quantity(48.05561502, 'MWh/hr'),\n",
       " unyt_quantity(0., 'MWh/hr'),\n",
       " unyt_quantity(0., 'MWh/hr'),\n",
       " unyt_quantity(0., 'MWh/hr'),\n",
       " unyt_quantity(0., 'MWh/hr'),\n",
       " unyt_quantity(0., 'MWh/hr'),\n",
       " unyt_quantity(0., 'MWh/hr'),\n",
       " unyt_quantity(0, 'MW'),\n",
       " unyt_quantity(3.92774161, 'MW'),\n",
       " unyt_quantity(0, 'MW'),\n",
       " unyt_quantity(0, 'MW'),\n",
       " unyt_quantity(0, 'MW'),\n",
       " unyt_quantity(0, 'MW'),\n",
       " unyt_quantity(25.3980917, 'MW'),\n",
       " unyt_quantity(0, 'MW'),\n",
       " unyt_quantity(0, 'MW'),\n",
       " unyt_quantity(0, 'MW'),\n",
       " unyt_quantity(17.45592987, 'MW'),\n",
       " unyt_quantity(11.18576393, 'MW'),\n",
       " unyt_quantity(53.39487091, 'MW'),\n",
       " unyt_quantity(0, 'MW'),\n",
       " unyt_quantity(53.97860494, 'MW'),\n",
       " unyt_quantity(27.01922515, 'MW'),\n",
       " unyt_quantity(50.32396895, 'MW'),\n",
       " unyt_quantity(48.05561502, 'MWh/hr'),\n",
       " unyt_quantity(0., 'MWh/hr'),\n",
       " unyt_quantity(0., 'MWh/hr'),\n",
       " unyt_quantity(0., 'MWh/hr'),\n",
       " unyt_quantity(0., 'MWh/hr'),\n",
       " unyt_quantity(0., 'MWh/hr'),\n",
       " unyt_quantity(0., 'MWh/hr'),\n",
       " unyt_quantity(0, 'MW'),\n",
       " unyt_quantity(3.92774161, 'MW'),\n",
       " unyt_quantity(0, 'MW'),\n",
       " unyt_quantity(0, 'MW'),\n",
       " unyt_quantity(0, 'MW'),\n",
       " unyt_quantity(0, 'MW'),\n",
       " unyt_quantity(25.3980917, 'MW'),\n",
       " unyt_quantity(0, 'MW'),\n",
       " unyt_quantity(0, 'MW'),\n",
       " unyt_quantity(0, 'MW'),\n",
       " unyt_quantity(17.45592987, 'MW'),\n",
       " unyt_quantity(11.18576393, 'MW'),\n",
       " unyt_quantity(0, 'MW'),\n",
       " unyt_quantity(0, 'MW')]"
      ]
     },
     "execution_count": 31,
     "metadata": {},
     "output_type": "execute_result"
    }
   ],
   "source": [
    "battery.power_history"
   ]
  },
  {
   "cell_type": "code",
   "execution_count": 32,
   "metadata": {},
   "outputs": [
    {
     "name": "stdout",
     "output_type": "stream",
     "text": [
      "Battery_charge\n",
      "218\n",
      "Battery_level\n",
      "218\n",
      "Nuclear_Adv\n",
      "218\n",
      "NaturalGas_Conv\n",
      "219\n"
     ]
    }
   ],
   "source": [
    "for k,v in data.items():\n",
    "    print(k)\n",
    "    print(len(v))"
   ]
  },
  {
   "cell_type": "code",
   "execution_count": null,
   "metadata": {},
   "outputs": [],
   "source": []
  },
  {
   "cell_type": "code",
   "execution_count": null,
   "metadata": {},
   "outputs": [
    {
     "data": {
      "text/plain": [
       "{'Nuclear_Adv': array([37.5       , 50.        , 37.5       , 50.        , 37.5       ,\n",
       "        49.78414396, 37.28414396, 24.78414396, 37.28414396, 24.78414396,\n",
       "        12.28414396, 24.78414396, 12.28414396, 16.77937897, 29.27937897,\n",
       "        41.77937897, 50.        , 39.00609873, 43.10780205, 30.60780205,\n",
       "        27.73601117, 40.23601117, 27.73601117, 15.23601117]),\n",
       " 'Battery_charge': array([ -82.1813007 ,    2.07971782,   -5.15921155,   27.00837748,\n",
       "         -28.39410668,  -14.16870904,   -7.16737048,   17.09172966,\n",
       "         -29.4173956 , -100.        ,    2.42830196,  -15.82984773,\n",
       "          51.30356091,    2.3279931 ,    0.39961634,   -1.34367829,\n",
       "          19.00898264,  -64.94981954,   -9.29882982]),\n",
       " 'Battery_level': array([182.1813007 , 180.10158287, 185.26079442, 158.25241694,\n",
       "        186.64652361, 200.81523266, 207.98260313, 190.89087347,\n",
       "        220.30826907, 320.30826907, 317.87996711, 333.70981484,\n",
       "        282.40625393, 280.07826083, 279.67864449, 281.02232278,\n",
       "        262.01334014, 326.96315968, 336.2619895 ]),\n",
       " 'NaturalGas_Conv': array([0. , 0.1, 0. , 0.1, 0. , 0. , 0. , 0. , 0.1, 0. , 0. , 0.1, 0. ,\n",
       "        0. , 0.1, 0.1, 0.1, 0. , 0. , 0. , 0. , 0.1, 0. , 0. ])}"
      ]
     },
     "execution_count": 32,
     "metadata": {},
     "output_type": "execute_result"
    }
   ],
   "source": [
    "data"
   ]
  },
  {
   "cell_type": "code",
   "execution_count": null,
   "metadata": {},
   "outputs": [
    {
     "data": {
      "text/plain": [
       "array([-44.6813007 ,  52.17971782,  32.34078845,  77.10837748,\n",
       "         9.10589332,  49.78414396,  23.11543492,  17.61677349,\n",
       "        54.47587362,  -4.63325164, -98.06333831,  27.31244593,\n",
       "        -3.54570377,  16.77937897,  80.68293988,  44.20737206,\n",
       "        50.49961634,  39.00609873,  43.10780205,  29.26412377,\n",
       "        27.73601117,  59.34499381, -37.21380837,   5.93718136])"
      ]
     },
     "execution_count": 29,
     "metadata": {},
     "output_type": "execute_result"
    }
   ],
   "source": [
    "net_demand"
   ]
  },
  {
   "cell_type": "code",
   "execution_count": null,
   "metadata": {},
   "outputs": [
    {
     "data": {
      "text/plain": [
       "unyt_quantity(0., 'MW')"
      ]
     },
     "execution_count": 30,
     "metadata": {},
     "output_type": "execute_result"
    }
   ],
   "source": [
    "battery.power_level"
   ]
  },
  {
   "cell_type": "code",
   "execution_count": null,
   "metadata": {},
   "outputs": [
    {
     "ename": "ValueError",
     "evalue": "All arrays must be of the same length",
     "output_type": "error",
     "traceback": [
      "\u001b[0;31m---------------------------------------------------------------------------\u001b[0m",
      "\u001b[0;31mValueError\u001b[0m                                Traceback (most recent call last)",
      "Cell \u001b[0;32mIn[31], line 1\u001b[0m\n\u001b[0;32m----> 1\u001b[0m pd\u001b[39m.\u001b[39;49mDataFrame(data)\n",
      "File \u001b[0;32m~/miniforge3/envs/osier-test04/lib/python3.12/site-packages/pandas/core/frame.py:778\u001b[0m, in \u001b[0;36mDataFrame.__init__\u001b[0;34m(self, data, index, columns, dtype, copy)\u001b[0m\n\u001b[1;32m    772\u001b[0m     mgr \u001b[39m=\u001b[39m \u001b[39mself\u001b[39m\u001b[39m.\u001b[39m_init_mgr(\n\u001b[1;32m    773\u001b[0m         data, axes\u001b[39m=\u001b[39m{\u001b[39m\"\u001b[39m\u001b[39mindex\u001b[39m\u001b[39m\"\u001b[39m: index, \u001b[39m\"\u001b[39m\u001b[39mcolumns\u001b[39m\u001b[39m\"\u001b[39m: columns}, dtype\u001b[39m=\u001b[39mdtype, copy\u001b[39m=\u001b[39mcopy\n\u001b[1;32m    774\u001b[0m     )\n\u001b[1;32m    776\u001b[0m \u001b[39melif\u001b[39;00m \u001b[39misinstance\u001b[39m(data, \u001b[39mdict\u001b[39m):\n\u001b[1;32m    777\u001b[0m     \u001b[39m# GH#38939 de facto copy defaults to False only in non-dict cases\u001b[39;00m\n\u001b[0;32m--> 778\u001b[0m     mgr \u001b[39m=\u001b[39m dict_to_mgr(data, index, columns, dtype\u001b[39m=\u001b[39;49mdtype, copy\u001b[39m=\u001b[39;49mcopy, typ\u001b[39m=\u001b[39;49mmanager)\n\u001b[1;32m    779\u001b[0m \u001b[39melif\u001b[39;00m \u001b[39misinstance\u001b[39m(data, ma\u001b[39m.\u001b[39mMaskedArray):\n\u001b[1;32m    780\u001b[0m     \u001b[39mfrom\u001b[39;00m \u001b[39mnumpy\u001b[39;00m\u001b[39m.\u001b[39;00m\u001b[39mma\u001b[39;00m \u001b[39mimport\u001b[39;00m mrecords\n",
      "File \u001b[0;32m~/miniforge3/envs/osier-test04/lib/python3.12/site-packages/pandas/core/internals/construction.py:503\u001b[0m, in \u001b[0;36mdict_to_mgr\u001b[0;34m(data, index, columns, dtype, typ, copy)\u001b[0m\n\u001b[1;32m    499\u001b[0m     \u001b[39melse\u001b[39;00m:\n\u001b[1;32m    500\u001b[0m         \u001b[39m# dtype check to exclude e.g. range objects, scalars\u001b[39;00m\n\u001b[1;32m    501\u001b[0m         arrays \u001b[39m=\u001b[39m [x\u001b[39m.\u001b[39mcopy() \u001b[39mif\u001b[39;00m \u001b[39mhasattr\u001b[39m(x, \u001b[39m\"\u001b[39m\u001b[39mdtype\u001b[39m\u001b[39m\"\u001b[39m) \u001b[39melse\u001b[39;00m x \u001b[39mfor\u001b[39;00m x \u001b[39min\u001b[39;00m arrays]\n\u001b[0;32m--> 503\u001b[0m \u001b[39mreturn\u001b[39;00m arrays_to_mgr(arrays, columns, index, dtype\u001b[39m=\u001b[39;49mdtype, typ\u001b[39m=\u001b[39;49mtyp, consolidate\u001b[39m=\u001b[39;49mcopy)\n",
      "File \u001b[0;32m~/miniforge3/envs/osier-test04/lib/python3.12/site-packages/pandas/core/internals/construction.py:114\u001b[0m, in \u001b[0;36marrays_to_mgr\u001b[0;34m(arrays, columns, index, dtype, verify_integrity, typ, consolidate)\u001b[0m\n\u001b[1;32m    111\u001b[0m \u001b[39mif\u001b[39;00m verify_integrity:\n\u001b[1;32m    112\u001b[0m     \u001b[39m# figure out the index, if necessary\u001b[39;00m\n\u001b[1;32m    113\u001b[0m     \u001b[39mif\u001b[39;00m index \u001b[39mis\u001b[39;00m \u001b[39mNone\u001b[39;00m:\n\u001b[0;32m--> 114\u001b[0m         index \u001b[39m=\u001b[39m _extract_index(arrays)\n\u001b[1;32m    115\u001b[0m     \u001b[39melse\u001b[39;00m:\n\u001b[1;32m    116\u001b[0m         index \u001b[39m=\u001b[39m ensure_index(index)\n",
      "File \u001b[0;32m~/miniforge3/envs/osier-test04/lib/python3.12/site-packages/pandas/core/internals/construction.py:677\u001b[0m, in \u001b[0;36m_extract_index\u001b[0;34m(data)\u001b[0m\n\u001b[1;32m    675\u001b[0m lengths \u001b[39m=\u001b[39m \u001b[39mlist\u001b[39m(\u001b[39mset\u001b[39m(raw_lengths))\n\u001b[1;32m    676\u001b[0m \u001b[39mif\u001b[39;00m \u001b[39mlen\u001b[39m(lengths) \u001b[39m>\u001b[39m \u001b[39m1\u001b[39m:\n\u001b[0;32m--> 677\u001b[0m     \u001b[39mraise\u001b[39;00m \u001b[39mValueError\u001b[39;00m(\u001b[39m\"\u001b[39m\u001b[39mAll arrays must be of the same length\u001b[39m\u001b[39m\"\u001b[39m)\n\u001b[1;32m    679\u001b[0m \u001b[39mif\u001b[39;00m have_dicts:\n\u001b[1;32m    680\u001b[0m     \u001b[39mraise\u001b[39;00m \u001b[39mValueError\u001b[39;00m(\n\u001b[1;32m    681\u001b[0m         \u001b[39m\"\u001b[39m\u001b[39mMixing dicts with non-Series may lead to ambiguous ordering.\u001b[39m\u001b[39m\"\u001b[39m\n\u001b[1;32m    682\u001b[0m     )\n",
      "\u001b[0;31mValueError\u001b[0m: All arrays must be of the same length"
     ]
    }
   ],
   "source": [
    "pd.DataFrame(data)"
   ]
  },
  {
   "cell_type": "code",
   "execution_count": null,
   "metadata": {},
   "outputs": [
    {
     "ename": "NameError",
     "evalue": "name 'results' is not defined",
     "output_type": "error",
     "traceback": [
      "\u001b[0;31m---------------------------------------------------------------------------\u001b[0m",
      "\u001b[0;31mNameError\u001b[0m                                 Traceback (most recent call last)",
      "Cell \u001b[0;32mIn[30], line 1\u001b[0m\n\u001b[0;32m----> 1\u001b[0m ax \u001b[39m=\u001b[39m results\u001b[39m.\u001b[39mplot\u001b[39m.\u001b[39marea(linewidth\u001b[39m=\u001b[39m\u001b[39m0\u001b[39m)\n\u001b[1;32m      2\u001b[0m ax\u001b[39m.\u001b[39mplot(model\u001b[39m.\u001b[39mnet_demand, lw\u001b[39m=\u001b[39m\u001b[39m3\u001b[39m, label\u001b[39m=\u001b[39m\u001b[39m'\u001b[39m\u001b[39mDemand\u001b[39m\u001b[39m'\u001b[39m)\n\u001b[1;32m      3\u001b[0m ax\u001b[39m.\u001b[39mlegend()\n",
      "\u001b[0;31mNameError\u001b[0m: name 'results' is not defined"
     ]
    }
   ],
   "source": [
    "ax = results.plot.area(linewidth=0)\n",
    "ax.plot(model.net_demand, lw=3, label='Demand')\n",
    "ax.legend()"
   ]
  },
  {
   "cell_type": "code",
   "execution_count": null,
   "metadata": {},
   "outputs": [],
   "source": [
    "original_model = DispatchModel(technology_list=[t for t in tech_list if t.dispatchable],\n",
    "                           net_demand=net_demand)"
   ]
  },
  {
   "cell_type": "code",
   "execution_count": null,
   "metadata": {},
   "outputs": [
    {
     "name": "stdout",
     "output_type": "stream",
     "text": [
      "80.6 ms ± 13.6 ms per loop (mean ± std. dev. of 7 runs, 10 loops each)\n"
     ]
    }
   ],
   "source": [
    "%%timeit\n",
    "original_model.solve()"
   ]
  },
  {
   "cell_type": "code",
   "execution_count": null,
   "metadata": {},
   "outputs": [
    {
     "data": {
      "text/plain": [
       "<Axes: >"
      ]
     },
     "execution_count": 35,
     "metadata": {},
     "output_type": "execute_result"
    },
    {
     "data": {
      "image/png": "[encoded data removed]",
      "text/plain": [
       "<Figure size 640x480 with 1 Axes>"
      ]
     },
     "metadata": {},
     "output_type": "display_data"
    }
   ],
   "source": [
    "original_model.results.plot.area(lw=0)"
   ]
  },
  {
   "cell_type": "code",
   "execution_count": null,
   "metadata": {},
   "outputs": [],
   "source": [
    "from timeit import timeit, repeat"
   ]
  },
  {
   "cell_type": "code",
   "execution_count": null,
   "metadata": {},
   "outputs": [],
   "source": [
    "logic_time = timeit(stmt=\"model.solve()\",\n",
    "                    globals=globals(),\n",
    "                    number=7)"
   ]
  },
  {
   "cell_type": "code",
   "execution_count": null,
   "metadata": {},
   "outputs": [],
   "source": [
    "logic_time = repeat(stmt=\"model.solve()\",\n",
    "                    globals=globals(),\n",
    "                    repeat=7,\n",
    "                    number=10)"
   ]
  },
  {
   "cell_type": "code",
   "execution_count": null,
   "metadata": {},
   "outputs": [
    {
     "data": {
      "text/plain": [
       "np.float64(3.4105235536040897)"
      ]
     },
     "execution_count": 54,
     "metadata": {},
     "output_type": "execute_result"
    }
   ],
   "source": [
    "(np.array(logic_time)/10*1e3).std()"
   ]
  },
  {
   "cell_type": "code",
   "execution_count": null,
   "metadata": {},
   "outputs": [],
   "source": []
  }
 ],
 "metadata": {
  "kernelspec": {
   "display_name": "osier-test04",
   "language": "python",
   "name": "python3"
  },
  "language_info": {
   "codemirror_mode": {
    "name": "ipython",
    "version": 3
   },
   "file_extension": ".py",
   "mimetype": "text/x-python",
   "name": "python",
   "nbconvert_exporter": "python",
   "pygments_lexer": "ipython3",
   "version": "3.12.6"
  },
  "orig_nbformat": 4
 },
 "nbformat": 4,
 "nbformat_minor": 2
}
