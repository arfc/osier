{
 "cells": [
  {
   "attachments": {},
   "cell_type": "markdown",
   "metadata": {},
   "source": [
    "# Hierarchical Dispatch\n",
    "\n",
    "This notebook illustrates an example of how to use Osier's `LogicDispatchModel`."
   ]
  },
  {
   "cell_type": "code",
   "execution_count": 30,
   "metadata": {},
   "outputs": [],
   "source": [
    "# basic imports\n",
    "import matplotlib.pyplot as plt\n",
    "import numpy as np\n",
    "import pandas as pd\n",
    "from unyt import MW, GW, km, unyt_array\n",
    "\n",
    "# osier imports\n",
    "from osier import LogicDispatchModel, DispatchModel\n",
    "from osier.tech_library import nuclear_adv, wind, battery, natural_gas\n",
    "from osier import total_cost, annual_emission\n",
    "\n",
    "# pymoo imports\n",
    "from pymoo.algorithms.moo.nsga2 import NSGA2\n",
    "from pymoo.optimize import minimize\n",
    "from pymoo.visualization.pcp import PCP"
   ]
  },
  {
   "cell_type": "code",
   "execution_count": 2,
   "metadata": {},
   "outputs": [],
   "source": [
    "N=24\n",
    "demand = np.ones(N)*100\n",
    "wind_speed = np.random.weibull(a=2.5,size=N)"
   ]
  },
  {
   "cell_type": "code",
   "execution_count": 63,
   "metadata": {},
   "outputs": [
    {
     "data": {
      "text/plain": [
       "unyt_quantity(400., 'MW*hr')"
      ]
     },
     "execution_count": 63,
     "metadata": {},
     "output_type": "execute_result"
    }
   ],
   "source": [
    "battery.storage_capacity"
   ]
  },
  {
   "cell_type": "code",
   "execution_count": 94,
   "metadata": {},
   "outputs": [],
   "source": [
    "nuclear_adv.capacity = 50\n",
    "wind.capacity = 100\n",
    "battery.capacity = 100\n",
    "\n",
    "natural_gas.capacity = 0.1"
   ]
  },
  {
   "cell_type": "code",
   "execution_count": 98,
   "metadata": {},
   "outputs": [],
   "source": [
    "nuclear_adv.reset_history()"
   ]
  },
  {
   "cell_type": "code",
   "execution_count": 99,
   "metadata": {},
   "outputs": [
    {
     "data": {
      "text/plain": [
       "unyt_quantity(50., 'MW')"
      ]
     },
     "execution_count": 99,
     "metadata": {},
     "output_type": "execute_result"
    }
   ],
   "source": [
    "nuclear_adv.power_level"
   ]
  },
  {
   "cell_type": "code",
   "execution_count": 100,
   "metadata": {},
   "outputs": [
    {
     "data": {
      "text/plain": [
       "unyt_quantity(37.5, 'MW')"
      ]
     },
     "execution_count": 100,
     "metadata": {},
     "output_type": "execute_result"
    }
   ],
   "source": [
    "nuclear_adv.power_output(demand=-1*MW)"
   ]
  },
  {
   "cell_type": "code",
   "execution_count": 101,
   "metadata": {},
   "outputs": [],
   "source": [
    "battery.initial_storage = 100"
   ]
  },
  {
   "cell_type": "code",
   "execution_count": 103,
   "metadata": {},
   "outputs": [
    {
     "data": {
      "text/plain": [
       "unyt_quantity(0., 'MW')"
      ]
     },
     "execution_count": 103,
     "metadata": {},
     "output_type": "execute_result"
    }
   ],
   "source": [
    "natural_gas.power_output(-1*MW)"
   ]
  },
  {
   "cell_type": "code",
   "execution_count": 83,
   "metadata": {},
   "outputs": [
    {
     "data": {
      "text/plain": [
       "[Nuclear_Adv: 0.1 MW,\n",
       " WindTurbine: 100.0 MW,\n",
       " Battery: 100.0 MW,\n",
       " NaturalGas_Conv: 0.1 MW]"
      ]
     },
     "execution_count": 83,
     "metadata": {},
     "output_type": "execute_result"
    }
   ],
   "source": [
    "tech_list = [nuclear_adv, wind, battery, natural_gas]\n",
    "tech_list"
   ]
  },
  {
   "cell_type": "code",
   "execution_count": 84,
   "metadata": {},
   "outputs": [
    {
     "data": {
      "text/plain": [
       "array([  -8.16983792,   36.85017355,   43.50402908,   -6.16971374,\n",
       "        -17.70082279,   22.60276088,   29.33647965,   54.57836447,\n",
       "         19.13062058,  -14.67531027,   90.43536173,   41.79955077,\n",
       "         64.93959926,   14.77231421, -119.94658745,    8.7680144 ,\n",
       "         -0.64335546,  -13.80072492,   58.1319253 ,   76.24943415,\n",
       "        -32.13105368,   40.13156249,   40.07400895,  -10.76656657])"
      ]
     },
     "execution_count": 84,
     "metadata": {},
     "output_type": "execute_result"
    }
   ],
   "source": [
    "net_demand = demand - wind_speed*wind.capacity.to_value()\n",
    "net_demand"
   ]
  },
  {
   "cell_type": "code",
   "execution_count": 85,
   "metadata": {},
   "outputs": [],
   "source": [
    "model = LogicDispatchModel(technology_list=[t for t in tech_list if t.dispatchable],\n",
    "                           net_demand=net_demand)"
   ]
  },
  {
   "cell_type": "code",
   "execution_count": 86,
   "metadata": {},
   "outputs": [
    {
     "name": "stdout",
     "output_type": "stream",
     "text": [
      "19.3 ms ± 275 μs per loop (mean ± std. dev. of 7 runs, 1 loop each)\n"
     ]
    }
   ],
   "source": [
    "%%timeit\n",
    "model.solve()"
   ]
  },
  {
   "cell_type": "code",
   "execution_count": 87,
   "metadata": {},
   "outputs": [
    {
     "data": {
      "text/plain": [
       "unyt_array([ -16.33967584,    0.        ,    0.        ,  -12.33942748,\n",
       "        -35.40164557,    0.        ,    0.        ,   53.83143317,\n",
       "         18.93062058,  -29.35062054,   75.56005146,   41.59955077,\n",
       "         64.73959926,   14.57231421, -219.94658745,    0.        ,\n",
       "         -1.28671093,  -27.60144983,    0.        ,   28.10529347,\n",
       "        -64.26210735,    7.80050881,   39.87400895,  -21.53313314], 'MW')"
      ]
     },
     "execution_count": 87,
     "metadata": {},
     "output_type": "execute_result"
    }
   ],
   "source": [
    "model.solve()"
   ]
  },
  {
   "cell_type": "code",
   "execution_count": 15,
   "metadata": {},
   "outputs": [],
   "source": [
    "model.results"
   ]
  },
  {
   "cell_type": "code",
   "execution_count": 88,
   "metadata": {},
   "outputs": [
    {
     "name": "stdout",
     "output_type": "stream",
     "text": [
      "[unyt_quantity(0.1, 'MW'), unyt_quantity(0.1, 'MW'), unyt_quantity(0.1, 'MW'), unyt_quantity(0.1, 'MW'), unyt_quantity(0.1, 'MW'), unyt_quantity(0.1, 'MW'), unyt_quantity(0.1, 'MW'), unyt_quantity(0.1, 'MW'), unyt_quantity(0.1, 'MW'), unyt_quantity(0.1, 'MW'), unyt_quantity(0.1, 'MW'), unyt_quantity(0.1, 'MW'), unyt_quantity(0.1, 'MW'), unyt_quantity(0.1, 'MW'), unyt_quantity(0.1, 'MW')]\n",
      "[unyt_quantity(-8.16983792, 'MW'), unyt_quantity(36.65017355, 'MW'), unyt_quantity(43.30402908, 'MW'), unyt_quantity(-6.16971374, 'MW'), unyt_quantity(-17.70082279, 'MW'), unyt_quantity(22.40276088, 'MW'), unyt_quantity(29.13647965, 'MW'), unyt_quantity(0.54693129, 'MWh/hr'), unyt_quantity(0., 'MWh/hr'), unyt_quantity(-14.67531027, 'MW'), unyt_quantity(14.67531027, 'MWh/hr'), unyt_quantity(0., 'MWh/hr'), unyt_quantity(0., 'MWh/hr'), unyt_quantity(0., 'MWh/hr'), unyt_quantity(-100., 'MW'), unyt_quantity(8.5680144, 'MW'), unyt_quantity(-0.64335546, 'MW'), unyt_quantity(-13.80072492, 'MW'), unyt_quantity(57.9319253, 'MW'), unyt_quantity(47.94414068, 'MWh/hr'), unyt_quantity(-32.13105368, 'MW'), unyt_quantity(32.13105368, 'MWh/hr'), unyt_quantity(0., 'MWh/hr'), unyt_quantity(-10.76656657, 'MW')]\n",
      "[unyt_quantity(0.1, 'MW'), unyt_quantity(0.1, 'MW'), unyt_quantity(0.1, 'MW'), unyt_quantity(0.1, 'MW'), unyt_quantity(0.1, 'MW'), unyt_quantity(0.1, 'MW'), unyt_quantity(0.1, 'MW'), unyt_quantity(0.1, 'MW'), unyt_quantity(0.1, 'MW'), unyt_quantity(0.1, 'MW'), unyt_quantity(0.1, 'MW'), unyt_quantity(0.1, 'MW'), unyt_quantity(0.1, 'MW'), unyt_quantity(0.1, 'MW'), unyt_quantity(0.1, 'MW')]\n"
     ]
    }
   ],
   "source": [
    "for t in model.technology_list:\n",
    "    print(t.power_history)"
   ]
  },
  {
   "cell_type": "code",
   "execution_count": 89,
   "metadata": {},
   "outputs": [
    {
     "name": "stdout",
     "output_type": "stream",
     "text": [
      "[Nuclear_Adv: 0.1 MW, Battery: 100.0 MW, NaturalGas_Conv: 0.1 MW]\n"
     ]
    }
   ],
   "source": [
    "print(model.technology_list)"
   ]
  },
  {
   "cell_type": "code",
   "execution_count": 90,
   "metadata": {},
   "outputs": [],
   "source": [
    "data = {}\n",
    "for t in model.technology_list:\n",
    "    if t.technology_type == 'storage':\n",
    "        if len(t.power_history) == 0:\n",
    "            data[f\"{t.technology_name}_charge\"] = np.zeros(len(model.net_demand))\n",
    "        else:\n",
    "            data[f\"{t.technology_name}_charge\"] = unyt_array(t.power_history).to_ndarray()\n",
    "        if len(t.storage_history) == 0:\n",
    "            data[f\"{t.technology_name}_level\"] = np.zeros(len(model.net_demand))\n",
    "        else:\n",
    "            data[f\"{t.technology_name}_level\"] = unyt_array(t.storage_history).to_ndarray()\n",
    "    else:\n",
    "        if len(t.power_history) == 0:\n",
    "            data[t.technology_name] = np.zeros(len(model.net_demand))\n",
    "        else:\n",
    "            data[t.technology_name] = unyt_array(t.power_history).to_ndarray()\n",
    "# results = pd.DataFrame(data)"
   ]
  },
  {
   "cell_type": "code",
   "execution_count": 91,
   "metadata": {},
   "outputs": [
    {
     "ename": "SyntaxError",
     "evalue": "invalid syntax (519241152.py, line 1)",
     "output_type": "error",
     "traceback": [
      "\u001b[0;36m  Cell \u001b[0;32mIn[91], line 1\u001b[0;36m\u001b[0m\n\u001b[0;31m    model.technology_list[0].\u001b[0m\n\u001b[0m                             ^\u001b[0m\n\u001b[0;31mSyntaxError\u001b[0m\u001b[0;31m:\u001b[0m invalid syntax\n"
     ]
    }
   ],
   "source": [
    "model.technology_list[0]."
   ]
  },
  {
   "cell_type": "code",
   "execution_count": 75,
   "metadata": {},
   "outputs": [
    {
     "data": {
      "text/plain": [
       "{'Nuclear_Adv': array([0., 0., 0., 0., 0., 0., 0., 0., 0., 0., 0., 0., 0., 0., 0.]),\n",
       " 'Battery_charge': array([  -8.16983792,   36.85017355,   43.50402908,   -6.16971374,\n",
       "         -17.70082279,   22.60276088,   29.08341095,    0.        ,\n",
       "           0.        ,  -14.67531027,   14.67531027,    0.        ,\n",
       "           0.        ,    0.        , -100.        ,    8.7680144 ,\n",
       "          -0.64335546,  -13.80072492,   58.1319253 ,   47.54414068,\n",
       "         -32.13105368,   32.13105368,    0.        ,  -10.76656657]),\n",
       " 'Battery_level': array([108.16983792,  71.31966438,  27.8156353 ,  33.98534904,\n",
       "         51.68617183,  29.08341095,   0.        ,   0.        ,\n",
       "          0.        ,  14.67531027,   0.        ,   0.        ,\n",
       "          0.        ,   0.        , 100.        ,  91.2319856 ,\n",
       "         91.87534107, 105.67606598,  47.54414068,   0.        ,\n",
       "         32.13105368,   0.        ,   0.        ,  10.76656657]),\n",
       " 'NaturalGas_Conv': array([0., 0., 0., 0., 0., 0., 0., 0., 0., 0., 0., 0., 0., 0., 0.])}"
      ]
     },
     "execution_count": 75,
     "metadata": {},
     "output_type": "execute_result"
    }
   ],
   "source": [
    "data"
   ]
  },
  {
   "cell_type": "code",
   "execution_count": 93,
   "metadata": {},
   "outputs": [
    {
     "name": "stdout",
     "output_type": "stream",
     "text": [
      "Nuclear_Adv\n",
      "15\n",
      "Battery_charge\n",
      "24\n",
      "Battery_level\n",
      "24\n",
      "NaturalGas_Conv\n",
      "15\n"
     ]
    }
   ],
   "source": [
    "for k,v in data.items():\n",
    "    print(k)\n",
    "    print(len(v))"
   ]
  },
  {
   "cell_type": "code",
   "execution_count": 92,
   "metadata": {},
   "outputs": [
    {
     "ename": "ValueError",
     "evalue": "All arrays must be of the same length",
     "output_type": "error",
     "traceback": [
      "\u001b[0;31m---------------------------------------------------------------------------\u001b[0m",
      "\u001b[0;31mValueError\u001b[0m                                Traceback (most recent call last)",
      "Cell \u001b[0;32mIn[92], line 1\u001b[0m\n\u001b[0;32m----> 1\u001b[0m pd\u001b[39m.\u001b[39;49mDataFrame(data)\n",
      "File \u001b[0;32m~/miniforge3/envs/osier-test04/lib/python3.12/site-packages/pandas/core/frame.py:778\u001b[0m, in \u001b[0;36mDataFrame.__init__\u001b[0;34m(self, data, index, columns, dtype, copy)\u001b[0m\n\u001b[1;32m    772\u001b[0m     mgr \u001b[39m=\u001b[39m \u001b[39mself\u001b[39m\u001b[39m.\u001b[39m_init_mgr(\n\u001b[1;32m    773\u001b[0m         data, axes\u001b[39m=\u001b[39m{\u001b[39m\"\u001b[39m\u001b[39mindex\u001b[39m\u001b[39m\"\u001b[39m: index, \u001b[39m\"\u001b[39m\u001b[39mcolumns\u001b[39m\u001b[39m\"\u001b[39m: columns}, dtype\u001b[39m=\u001b[39mdtype, copy\u001b[39m=\u001b[39mcopy\n\u001b[1;32m    774\u001b[0m     )\n\u001b[1;32m    776\u001b[0m \u001b[39melif\u001b[39;00m \u001b[39misinstance\u001b[39m(data, \u001b[39mdict\u001b[39m):\n\u001b[1;32m    777\u001b[0m     \u001b[39m# GH#38939 de facto copy defaults to False only in non-dict cases\u001b[39;00m\n\u001b[0;32m--> 778\u001b[0m     mgr \u001b[39m=\u001b[39m dict_to_mgr(data, index, columns, dtype\u001b[39m=\u001b[39;49mdtype, copy\u001b[39m=\u001b[39;49mcopy, typ\u001b[39m=\u001b[39;49mmanager)\n\u001b[1;32m    779\u001b[0m \u001b[39melif\u001b[39;00m \u001b[39misinstance\u001b[39m(data, ma\u001b[39m.\u001b[39mMaskedArray):\n\u001b[1;32m    780\u001b[0m     \u001b[39mfrom\u001b[39;00m \u001b[39mnumpy\u001b[39;00m\u001b[39m.\u001b[39;00m\u001b[39mma\u001b[39;00m \u001b[39mimport\u001b[39;00m mrecords\n",
      "File \u001b[0;32m~/miniforge3/envs/osier-test04/lib/python3.12/site-packages/pandas/core/internals/construction.py:503\u001b[0m, in \u001b[0;36mdict_to_mgr\u001b[0;34m(data, index, columns, dtype, typ, copy)\u001b[0m\n\u001b[1;32m    499\u001b[0m     \u001b[39melse\u001b[39;00m:\n\u001b[1;32m    500\u001b[0m         \u001b[39m# dtype check to exclude e.g. range objects, scalars\u001b[39;00m\n\u001b[1;32m    501\u001b[0m         arrays \u001b[39m=\u001b[39m [x\u001b[39m.\u001b[39mcopy() \u001b[39mif\u001b[39;00m \u001b[39mhasattr\u001b[39m(x, \u001b[39m\"\u001b[39m\u001b[39mdtype\u001b[39m\u001b[39m\"\u001b[39m) \u001b[39melse\u001b[39;00m x \u001b[39mfor\u001b[39;00m x \u001b[39min\u001b[39;00m arrays]\n\u001b[0;32m--> 503\u001b[0m \u001b[39mreturn\u001b[39;00m arrays_to_mgr(arrays, columns, index, dtype\u001b[39m=\u001b[39;49mdtype, typ\u001b[39m=\u001b[39;49mtyp, consolidate\u001b[39m=\u001b[39;49mcopy)\n",
      "File \u001b[0;32m~/miniforge3/envs/osier-test04/lib/python3.12/site-packages/pandas/core/internals/construction.py:114\u001b[0m, in \u001b[0;36marrays_to_mgr\u001b[0;34m(arrays, columns, index, dtype, verify_integrity, typ, consolidate)\u001b[0m\n\u001b[1;32m    111\u001b[0m \u001b[39mif\u001b[39;00m verify_integrity:\n\u001b[1;32m    112\u001b[0m     \u001b[39m# figure out the index, if necessary\u001b[39;00m\n\u001b[1;32m    113\u001b[0m     \u001b[39mif\u001b[39;00m index \u001b[39mis\u001b[39;00m \u001b[39mNone\u001b[39;00m:\n\u001b[0;32m--> 114\u001b[0m         index \u001b[39m=\u001b[39m _extract_index(arrays)\n\u001b[1;32m    115\u001b[0m     \u001b[39melse\u001b[39;00m:\n\u001b[1;32m    116\u001b[0m         index \u001b[39m=\u001b[39m ensure_index(index)\n",
      "File \u001b[0;32m~/miniforge3/envs/osier-test04/lib/python3.12/site-packages/pandas/core/internals/construction.py:677\u001b[0m, in \u001b[0;36m_extract_index\u001b[0;34m(data)\u001b[0m\n\u001b[1;32m    675\u001b[0m lengths \u001b[39m=\u001b[39m \u001b[39mlist\u001b[39m(\u001b[39mset\u001b[39m(raw_lengths))\n\u001b[1;32m    676\u001b[0m \u001b[39mif\u001b[39;00m \u001b[39mlen\u001b[39m(lengths) \u001b[39m>\u001b[39m \u001b[39m1\u001b[39m:\n\u001b[0;32m--> 677\u001b[0m     \u001b[39mraise\u001b[39;00m \u001b[39mValueError\u001b[39;00m(\u001b[39m\"\u001b[39m\u001b[39mAll arrays must be of the same length\u001b[39m\u001b[39m\"\u001b[39m)\n\u001b[1;32m    679\u001b[0m \u001b[39mif\u001b[39;00m have_dicts:\n\u001b[1;32m    680\u001b[0m     \u001b[39mraise\u001b[39;00m \u001b[39mValueError\u001b[39;00m(\n\u001b[1;32m    681\u001b[0m         \u001b[39m\"\u001b[39m\u001b[39mMixing dicts with non-Series may lead to ambiguous ordering.\u001b[39m\u001b[39m\"\u001b[39m\n\u001b[1;32m    682\u001b[0m     )\n",
      "\u001b[0;31mValueError\u001b[0m: All arrays must be of the same length"
     ]
    }
   ],
   "source": [
    "pd.DataFrame(data)"
   ]
  },
  {
   "cell_type": "code",
   "execution_count": 73,
   "metadata": {},
   "outputs": [
    {
     "data": {
      "text/plain": [
       "<matplotlib.legend.Legend at 0x148e45be0>"
      ]
     },
     "execution_count": 73,
     "metadata": {},
     "output_type": "execute_result"
    },
    {
     "data": {
      "image/png": "[encoded data removed]",
      "text/plain": [
       "<Figure size 640x480 with 1 Axes>"
      ]
     },
     "metadata": {},
     "output_type": "display_data"
    }
   ],
   "source": [
    "ax = results.plot.area(linewidth=0)\n",
    "ax.plot(model.net_demand, lw=3, label='Demand')\n",
    "ax.legend()"
   ]
  },
  {
   "cell_type": "code",
   "execution_count": 31,
   "metadata": {},
   "outputs": [],
   "source": [
    "original_model = DispatchModel(technology_list=[t for t in tech_list if t.dispatchable],\n",
    "                           net_demand=net_demand)"
   ]
  },
  {
   "cell_type": "code",
   "execution_count": 36,
   "metadata": {},
   "outputs": [
    {
     "name": "stdout",
     "output_type": "stream",
     "text": [
      "80.6 ms ± 13.6 ms per loop (mean ± std. dev. of 7 runs, 10 loops each)\n"
     ]
    }
   ],
   "source": [
    "%%timeit\n",
    "original_model.solve()"
   ]
  },
  {
   "cell_type": "code",
   "execution_count": 35,
   "metadata": {},
   "outputs": [
    {
     "data": {
      "text/plain": [
       "<Axes: >"
      ]
     },
     "execution_count": 35,
     "metadata": {},
     "output_type": "execute_result"
    },
    {
     "data": {
      "image/png": "[encoded data removed]",
      "text/plain": [
       "<Figure size 640x480 with 1 Axes>"
      ]
     },
     "metadata": {},
     "output_type": "display_data"
    }
   ],
   "source": [
    "original_model.results.plot.area(lw=0)"
   ]
  },
  {
   "cell_type": "code",
   "execution_count": 45,
   "metadata": {},
   "outputs": [],
   "source": [
    "from timeit import timeit, repeat"
   ]
  },
  {
   "cell_type": "code",
   "execution_count": 41,
   "metadata": {},
   "outputs": [],
   "source": [
    "logic_time = timeit(stmt=\"model.solve()\",\n",
    "                    globals=globals(),\n",
    "                    number=7)"
   ]
  },
  {
   "cell_type": "code",
   "execution_count": 46,
   "metadata": {},
   "outputs": [],
   "source": [
    "logic_time = repeat(stmt=\"model.solve()\",\n",
    "                    globals=globals(),\n",
    "                    repeat=7,\n",
    "                    number=10)"
   ]
  },
  {
   "cell_type": "code",
   "execution_count": 54,
   "metadata": {},
   "outputs": [
    {
     "data": {
      "text/plain": [
       "np.float64(3.4105235536040897)"
      ]
     },
     "execution_count": 54,
     "metadata": {},
     "output_type": "execute_result"
    }
   ],
   "source": [
    "(np.array(logic_time)/10*1e3).std()"
   ]
  },
  {
   "cell_type": "code",
   "execution_count": null,
   "metadata": {},
   "outputs": [],
   "source": []
  }
 ],
 "metadata": {
  "kernelspec": {
   "display_name": "osier-test04",
   "language": "python",
   "name": "python3"
  },
  "language_info": {
   "codemirror_mode": {
    "name": "ipython",
    "version": 3
   },
   "file_extension": ".py",
   "mimetype": "text/x-python",
   "name": "python",
   "nbconvert_exporter": "python",
   "pygments_lexer": "ipython3",
   "version": "3.12.6"
  },
  "orig_nbformat": 4
 },
 "nbformat": 4,
 "nbformat_minor": 2
}
