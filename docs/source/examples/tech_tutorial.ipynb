{
 "cells": [
  {
   "attachments": {},
   "cell_type": "markdown",
   "metadata": {},
   "source": [
    "# `Osier` Technology Tutorial\n",
    "\n",
    "\n",
    "Objectives:\n",
    "\n",
    "* Learn how to import a pre-defined technology from the ``osier`` technology library.\n",
    "\n",
    "* Modify the attributes of a technology object in the current instance.\n",
    "\n",
    "* Create your own ``osier`` technology! "
   ]
  },
  {
   "attachments": {},
   "cell_type": "markdown",
   "metadata": {},
   "source": [
    "## Importing from the Technology Library\n",
    "\n",
    "``Osier`` comes with some generic, pre-defined technology classes that you can use immediately in your simulations.\n",
    "The cost data comes from the National Renewable Energy Laboratory's (NREL) Annual Technology Baseline (ATB)."
   ]
  },
  {
   "cell_type": "code",
   "execution_count": 1,
   "metadata": {},
   "outputs": [
    {
     "data": {
      "text/html": [
       "<div>\n",
       "<style scoped>\n",
       "    .dataframe tbody tr th:only-of-type {\n",
       "        vertical-align: middle;\n",
       "    }\n",
       "\n",
       "    .dataframe tbody tr th {\n",
       "        vertical-align: top;\n",
       "    }\n",
       "\n",
       "    .dataframe thead th {\n",
       "        text-align: right;\n",
       "    }\n",
       "</style>\n",
       "<table border=\"1\" class=\"dataframe\">\n",
       "  <thead>\n",
       "    <tr style=\"text-align: right;\">\n",
       "      <th></th>\n",
       "      <th>Import Name</th>\n",
       "      <th>Technology Name</th>\n",
       "    </tr>\n",
       "  </thead>\n",
       "  <tbody>\n",
       "    <tr>\n",
       "      <th>0</th>\n",
       "      <td>battery</td>\n",
       "      <td>Battery</td>\n",
       "    </tr>\n",
       "    <tr>\n",
       "      <th>1</th>\n",
       "      <td>biomass</td>\n",
       "      <td>Biomass</td>\n",
       "    </tr>\n",
       "    <tr>\n",
       "      <th>2</th>\n",
       "      <td>coal</td>\n",
       "      <td>Coal_Conv</td>\n",
       "    </tr>\n",
       "    <tr>\n",
       "      <th>3</th>\n",
       "      <td>coal_adv</td>\n",
       "      <td>Coal_Adv</td>\n",
       "    </tr>\n",
       "    <tr>\n",
       "      <th>4</th>\n",
       "      <td>natural_gas</td>\n",
       "      <td>NaturalGas_Conv</td>\n",
       "    </tr>\n",
       "    <tr>\n",
       "      <th>5</th>\n",
       "      <td>natural_gas_adv</td>\n",
       "      <td>NaturalGas_Adv</td>\n",
       "    </tr>\n",
       "    <tr>\n",
       "      <th>6</th>\n",
       "      <td>nuclear</td>\n",
       "      <td>Nuclear</td>\n",
       "    </tr>\n",
       "    <tr>\n",
       "      <th>7</th>\n",
       "      <td>nuclear_adv</td>\n",
       "      <td>Nuclear_Adv</td>\n",
       "    </tr>\n",
       "    <tr>\n",
       "      <th>8</th>\n",
       "      <td>solar</td>\n",
       "      <td>SolarPanel</td>\n",
       "    </tr>\n",
       "    <tr>\n",
       "      <th>9</th>\n",
       "      <td>wind</td>\n",
       "      <td>WindTurbine</td>\n",
       "    </tr>\n",
       "  </tbody>\n",
       "</table>\n",
       "</div>"
      ],
      "text/plain": [
       "       Import Name  Technology Name\n",
       "0          battery          Battery\n",
       "1          biomass          Biomass\n",
       "2             coal        Coal_Conv\n",
       "3         coal_adv         Coal_Adv\n",
       "4      natural_gas  NaturalGas_Conv\n",
       "5  natural_gas_adv   NaturalGas_Adv\n",
       "6          nuclear          Nuclear\n",
       "7      nuclear_adv      Nuclear_Adv\n",
       "8            solar       SolarPanel\n",
       "9             wind      WindTurbine"
      ]
     },
     "metadata": {},
     "output_type": "display_data"
    }
   ],
   "source": [
    "# import the catalog to see what technologies are available\n",
    "from osier.tech_library import catalog\n",
    "\n",
    "display(catalog())"
   ]
  },
  {
   "cell_type": "code",
   "execution_count": 2,
   "metadata": {},
   "outputs": [
    {
     "name": "stdout",
     "output_type": "stream",
     "text": [
      "Nuclear: 18609.404000000002 MW\n"
     ]
    }
   ],
   "source": [
    "# import some specific technologies\n",
    "from osier.tech_library import battery, nuclear, solar\n",
    "\n",
    "# printing the technology will show the currently specified capacity.\n",
    "print(nuclear)"
   ]
  },
  {
   "cell_type": "markdown",
   "metadata": {},
   "source": [
    "All of the associated technology data can be viewed in a dataframe format using ``osier.Technology.to_dataframe()``."
   ]
  },
  {
   "cell_type": "code",
   "execution_count": 3,
   "metadata": {},
   "outputs": [
    {
     "data": {
      "text/html": [
       "<div>\n",
       "<style scoped>\n",
       "    .dataframe tbody tr th:only-of-type {\n",
       "        vertical-align: middle;\n",
       "    }\n",
       "\n",
       "    .dataframe tbody tr th {\n",
       "        vertical-align: top;\n",
       "    }\n",
       "\n",
       "    .dataframe thead th {\n",
       "        text-align: right;\n",
       "    }\n",
       "</style>\n",
       "<table border=\"1\" class=\"dataframe\">\n",
       "  <thead>\n",
       "    <tr style=\"text-align: right;\">\n",
       "      <th></th>\n",
       "      <th>technology_category</th>\n",
       "      <th>technology_type</th>\n",
       "      <th>dispatchable</th>\n",
       "      <th>renewable</th>\n",
       "      <th>fuel_type</th>\n",
       "      <th>ramp_up_rate (1/hr)</th>\n",
       "      <th>ramp_down_rate (1/hr)</th>\n",
       "      <th>lifetime</th>\n",
       "      <th>capacity (MW)</th>\n",
       "      <th>capacity_factor</th>\n",
       "      <th>capacity_credit</th>\n",
       "      <th>efficiency</th>\n",
       "      <th>capital_cost (1/kW)</th>\n",
       "      <th>om_cost_fixed (1/kW)</th>\n",
       "      <th>om_cost_variable (1/(MW*hr))</th>\n",
       "      <th>fuel_cost (1/(MW*hr))</th>\n",
       "      <th>co2_rate (megatonnes/(MW*hr))</th>\n",
       "      <th>lifecycle_co2_rate (megatonnes/(GW*hr))</th>\n",
       "      <th>land_intensity (km/MW**2)</th>\n",
       "      <th>heat_rate</th>\n",
       "    </tr>\n",
       "    <tr>\n",
       "      <th>technology_name</th>\n",
       "      <th></th>\n",
       "      <th></th>\n",
       "      <th></th>\n",
       "      <th></th>\n",
       "      <th></th>\n",
       "      <th></th>\n",
       "      <th></th>\n",
       "      <th></th>\n",
       "      <th></th>\n",
       "      <th></th>\n",
       "      <th></th>\n",
       "      <th></th>\n",
       "      <th></th>\n",
       "      <th></th>\n",
       "      <th></th>\n",
       "      <th></th>\n",
       "      <th></th>\n",
       "      <th></th>\n",
       "      <th></th>\n",
       "      <th></th>\n",
       "    </tr>\n",
       "  </thead>\n",
       "  <tbody>\n",
       "    <tr>\n",
       "      <th>Nuclear</th>\n",
       "      <td>thermal</td>\n",
       "      <td>production</td>\n",
       "      <td>True</td>\n",
       "      <td>False</td>\n",
       "      <td>None</td>\n",
       "      <td>0</td>\n",
       "      <td>0</td>\n",
       "      <td>25</td>\n",
       "      <td>1.86e+04</td>\n",
       "      <td>1</td>\n",
       "      <td>1</td>\n",
       "      <td>1</td>\n",
       "      <td>5e-05</td>\n",
       "      <td>0.000178</td>\n",
       "      <td>0</td>\n",
       "      <td>5.81e-06</td>\n",
       "      <td>0</td>\n",
       "      <td>5.1e-06</td>\n",
       "      <td>0</td>\n",
       "      <td>None</td>\n",
       "    </tr>\n",
       "  </tbody>\n",
       "</table>\n",
       "</div>"
      ],
      "text/plain": [
       "                technology_category technology_type dispatchable renewable  \\\n",
       "technology_name                                                              \n",
       "Nuclear                     thermal      production         True     False   \n",
       "\n",
       "                fuel_type ramp_up_rate (1/hr) ramp_down_rate (1/hr) lifetime  \\\n",
       "technology_name                                                                \n",
       "Nuclear              None                   0                     0       25   \n",
       "\n",
       "                capacity (MW) capacity_factor capacity_credit efficiency  \\\n",
       "technology_name                                                            \n",
       "Nuclear              1.86e+04               1               1          1   \n",
       "\n",
       "                capital_cost (1/kW) om_cost_fixed (1/kW)  \\\n",
       "technology_name                                            \n",
       "Nuclear                       5e-05             0.000178   \n",
       "\n",
       "                om_cost_variable (1/(MW*hr)) fuel_cost (1/(MW*hr))  \\\n",
       "technology_name                                                      \n",
       "Nuclear                                    0              5.81e-06   \n",
       "\n",
       "                co2_rate (megatonnes/(MW*hr))  \\\n",
       "technology_name                                 \n",
       "Nuclear                                     0   \n",
       "\n",
       "                lifecycle_co2_rate (megatonnes/(GW*hr))  \\\n",
       "technology_name                                           \n",
       "Nuclear                                         5.1e-06   \n",
       "\n",
       "                land_intensity (km/MW**2) heat_rate  \n",
       "technology_name                                      \n",
       "Nuclear                                 0      None  "
      ]
     },
     "execution_count": 3,
     "metadata": {},
     "output_type": "execute_result"
    }
   ],
   "source": [
    "nuclear.to_dataframe()"
   ]
  },
  {
   "cell_type": "code",
   "execution_count": 4,
   "metadata": {},
   "outputs": [
    {
     "data": {
      "text/plain": [
       "[Battery: 815.3412599999999 MW,\n",
       " Biomass: 0.0 MW,\n",
       " Coal_Conv: 0.0 MW,\n",
       " Coal_Adv: 0.0 MW,\n",
       " NaturalGas_Conv: 8375.1331 MW,\n",
       " NaturalGas_Adv: 0.0 MW,\n",
       " Nuclear: 18609.404000000002 MW,\n",
       " Nuclear_Adv: 0.0 MW,\n",
       " SolarPanel: 2810.3015 MW,\n",
       " WindTurbine: 0.0 MW]"
      ]
     },
     "metadata": {},
     "output_type": "display_data"
    }
   ],
   "source": [
    "# one can also import a list of all technologies\n",
    "from osier.tech_library import all_technologies\n",
    "\n",
    "display(all_technologies())"
   ]
  },
  {
   "cell_type": "code",
   "execution_count": null,
   "metadata": {},
   "outputs": [],
   "source": []
  }
 ],
 "metadata": {
  "kernelspec": {
   "display_name": "Python 3",
   "language": "python",
   "name": "python3"
  },
  "language_info": {
   "codemirror_mode": {
    "name": "ipython",
    "version": 3
   },
   "file_extension": ".py",
   "mimetype": "text/x-python",
   "name": "python",
   "nbconvert_exporter": "python",
   "pygments_lexer": "ipython3",
   "version": "3.11.5"
  },
  "orig_nbformat": 4
 },
 "nbformat": 4,
 "nbformat_minor": 2
}
