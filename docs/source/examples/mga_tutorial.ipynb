{
 "cells": [
  {
   "attachments": {},
   "cell_type": "markdown",
   "metadata": {},
   "source": [
    "# Modeling-to-Generate-Alternatives (MGA) Tutorial\n",
    "\n",
    "MGA is commonly used in energy modelling to address what is known as \"structural uncertainty.\"\n",
    "That is, the uncertainty stemming from unknown, unmodeled, or unmodel-able objectives. For instance,\n",
    "political feasibility or some other qualitative variable.\n",
    "\n",
    "## The MGA Idea\n",
    "\n",
    "To get around this challenge, MGA searches the \"sub-optimal\" or \"near-optimal\" region for alternative\n",
    "solutions by relaxing the objective function. The goal for a single-objective problem is to find \n",
    "\"maximally different solutions in the design space.\" In multi-objective problems, specifically ones solved\n",
    "with genetic algorithms, users can identify alternatives by random selection or farthest first traversal.\n",
    "\n",
    "This tutorial will illustrate both methods.\n",
    "\n",
    "## MGA Example \\#1"
   ]
  },
  {
   "cell_type": "code",
   "execution_count": 1,
   "metadata": {},
   "outputs": [],
   "source": [
    "from scipy.spatial.distance import pdist\n",
    "from scipy.spatial.distance import squareform\n",
    "import numpy as np\n",
    "import matplotlib.pyplot as plt\n",
    "import pandas as pd"
   ]
  },
  {
   "cell_type": "code",
   "execution_count": 2,
   "metadata": {},
   "outputs": [],
   "source": [
    "def distance_matrix(X, metric='euclidean'):\n",
    "    \"\"\"\n",
    "    This function calculates the distance matrix for an \n",
    "    MxN matrix and returns the symmetrical square form of \n",
    "    the matrix. \n",
    "\n",
    "    Parameters\n",
    "    ----------\n",
    "    X : :class:`numpy.ndarray`\n",
    "        An MxN matrix.\n",
    "    metric : str\n",
    "        The string describing how the metric should be calculated.\n",
    "\n",
    "        See the documentation for \n",
    "        [`scipy.spatial.distance.pdist`](https://docs.scipy.org/doc/scipy/reference/generated/scipy.spatial.distance.pdist.html)\n",
    "        for a complete list of values. Default is 'euclidean.'\n",
    "    \n",
    "    Returns\n",
    "    -------\n",
    "    D : :class:`numpy.ndarray`\n",
    "        An MxM matrix of distance values and zeros along the diagonal.\n",
    "    \"\"\"\n",
    "\n",
    "    D = squareform(pdist(X, metric=metric))\n",
    "\n",
    "    return D"
   ]
  },
  {
   "cell_type": "code",
   "execution_count": 6,
   "metadata": {},
   "outputs": [],
   "source": [
    "def farthest_first(X, D, n_points, start_idx=None, seed=1234):\n",
    "    \"\"\"\n",
    "    This function identifies the farthest first traversal order for an MxN \n",
    "    matrix and returns an array of indices (ordered by the distance). \n",
    "\n",
    "    This implementation was modified from Hiroyuki Tanaka's\n",
    "    [GitHub gist](https://gist.github.com/nkt1546789/8e6c46aa4c3b55f13d32).\n",
    "\n",
    "    Parameters\n",
    "    ----------\n",
    "    X : :class:`numpy.ndarray`\n",
    "        An MxN matrix.\n",
    "    D : :class:`numpy.ndarray`\n",
    "        An MxM distance matrix for the dataset, `X`.\n",
    "    n_points : int\n",
    "        The number of points to traverse.\n",
    "    start_idx : int\n",
    "        The index of the starting point. If `None`, a starting point\n",
    "        will be chosen randomly. Default is `None`.\n",
    "    seed : int\n",
    "        Specifies the seed for a random number generator to ensure\n",
    "        repeatable results. Default is 1234. \n",
    "    \"\"\"\n",
    "\n",
    "    rows, cols = X.shape\n",
    "\n",
    "    if n_points >= rows:\n",
    "        return np.arange(rows)\n",
    "    else:\n",
    "        checked_points = []\n",
    "\n",
    "        breakpoint()\n",
    "        if not start_idx:\n",
    "            rng = np.random.default_rng(seed)\n",
    "            start_idx = rng.integers(low=0, high=rows-1)\n",
    "        \n",
    "        checked_points.append(start_idx)\n",
    "        prev_mean_dist = []\n",
    "        while len(checked_points) < n_points:\n",
    "            mean_distance = np.mean([D[i] for i in checked_points])\n",
    "            if mean_distance == prev_mean_dist:\n",
    "                break\n",
    "            else:\n",
    "                sorted_dist = np.argsort(mean_distance)[::-1]\n",
    "                for j in sorted_dist:\n",
    "                    if j not in checked_points:\n",
    "                        checked_points.append(j)\n",
    "                        break\n",
    "            prev_mean_dist = mean_distance\n",
    "    \n",
    "    return np.array(checked_points)"
   ]
  },
  {
   "cell_type": "code",
   "execution_count": 7,
   "metadata": {},
   "outputs": [
    {
     "data": {
      "text/plain": [
       "array([[0, 1, 2, 3, 4],\n",
       "       [0, 1, 2, 3, 4],\n",
       "       [0, 1, 2, 3, 4],\n",
       "       [0, 1, 2, 3, 4],\n",
       "       [0, 1, 2, 3, 4]])"
      ]
     },
     "metadata": {},
     "output_type": "display_data"
    },
    {
     "data": {
      "text/plain": [
       "array([[0., 0., 0., 0., 0.],\n",
       "       [0., 0., 0., 0., 0.],\n",
       "       [0., 0., 0., 0., 0.],\n",
       "       [0., 0., 0., 0., 0.],\n",
       "       [0., 0., 0., 0., 0.]])"
      ]
     },
     "metadata": {},
     "output_type": "display_data"
    },
    {
     "name": "stderr",
     "output_type": "stream",
     "text": [
      "/var/folders/6h/g412p7x53jbcqr_x5sy9z8th0000gn/T/ipykernel_47359/1276232678.py:41: DeprecationWarning: The truth value of an empty array is ambiguous. Returning False, but in future this will result in an error. Use `array.size > 0` to check that an array is not empty.\n",
      "  if mean_distance == prev_mean_dist:\n"
     ]
    },
    {
     "data": {
      "text/plain": [
       "array([3, 0])"
      ]
     },
     "execution_count": 7,
     "metadata": {},
     "output_type": "execute_result"
    }
   ],
   "source": [
    "N = 1  # the number of different technologies or objectives.\n",
    "pop_size = 5  # the number of unique individuals.\n",
    "data = np.c_[[np.arange(pop_size) for i in range(pop_size)]]\n",
    "display(data)\n",
    "dist = distance_matrix(data)\n",
    "display(dist)\n",
    "points = farthest_first(data, dist, n_points=3, start_idx=0)\n",
    "points"
   ]
  },
  {
   "cell_type": "code",
   "execution_count": null,
   "metadata": {},
   "outputs": [],
   "source": []
  }
 ],
 "metadata": {
  "kernelspec": {
   "display_name": "base",
   "language": "python",
   "name": "python3"
  },
  "language_info": {
   "codemirror_mode": {
    "name": "ipython",
    "version": 3
   },
   "file_extension": ".py",
   "mimetype": "text/x-python",
   "name": "python",
   "nbconvert_exporter": "python",
   "pygments_lexer": "ipython3",
   "version": "3.10.13"
  }
 },
 "nbformat": 4,
 "nbformat_minor": 2
}
